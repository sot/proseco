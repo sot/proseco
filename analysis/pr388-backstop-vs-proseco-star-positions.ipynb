{
 "cells": [
  {
   "cell_type": "markdown",
   "metadata": {},
   "source": [
    "# Backstop positions vs proseco positions\n",
    "\n",
    "Compare proseco star catalog positions with backstop (via kadi observation starcats) and review\n",
    "magnitude of differences caused by truncating / rounding before backstop generation."
   ]
  },
  {
   "cell_type": "code",
   "execution_count": 1,
   "metadata": {},
   "outputs": [
    {
     "name": "stdout",
     "output_type": "stream",
     "text": [
      "5.9.1.dev6+g07db67a\n"
     ]
    }
   ],
   "source": [
    "import os\n",
    "os.environ['SKA'] = '/Users/jean/ska'\n",
    "import proseco\n",
    "print(proseco.__version__)"
   ]
  },
  {
   "cell_type": "code",
   "execution_count": 2,
   "metadata": {},
   "outputs": [],
   "source": [
    "from functools import lru_cache\n",
    "from pathlib import Path\n",
    "import pickle\n",
    "import gzip\n",
    "import warnings\n",
    "\n",
    "warnings.filterwarnings('ignore', category=UserWarning, module='chandra_aca')\n",
    "warnings.filterwarnings('ignore', category=UserWarning, module='proseco')\n",
    "\n",
    "import astropy.units as u\n",
    "from astropy.table import Table, join, vstack\n",
    "\n",
    "from cxotime import CxoTime\n",
    "import matplotlib.pyplot as plt\n",
    "import numpy as np\n",
    "\n",
    "from kadi.commands.commands_v2 import APPROVED_LOADS_OCCWEB_DIR\n",
    "from kadi.commands import observations\n",
    "from kadi.occweb import get_occweb_page\n"
   ]
  },
  {
   "cell_type": "code",
   "execution_count": 3,
   "metadata": {},
   "outputs": [],
   "source": [
    "@lru_cache()\n",
    "def get_pickle_path(load_name: str) -> Path:\n",
    "    year = '20' + load_name[5:7]\n",
    "    month_name = load_name[:3]\n",
    "    pkl_path = (\n",
    "        APPROVED_LOADS_OCCWEB_DIR \n",
    "        / year \n",
    "        / month_name \n",
    "        / load_name \n",
    "        / 'output'\n",
    "        / f'{load_name}_proseco.pkl.gz'\n",
    "        )\n",
    "    return pkl_path"
   ]
  },
  {
   "cell_type": "code",
   "execution_count": 4,
   "metadata": {},
   "outputs": [],
   "source": [
    "@lru_cache()\n",
    "def get_acas(load_name):\n",
    "    path = get_pickle_path(load_name)\n",
    "    pkl_bytes = get_occweb_page(path, binary=True, cache=True)\n",
    "    acas = pickle.loads(gzip.decompress(pkl_bytes))\n",
    "    return acas"
   ]
  },
  {
   "cell_type": "code",
   "execution_count": 5,
   "metadata": {},
   "outputs": [],
   "source": [
    "def get_aca(obsid, load_name):\n",
    "    acas = get_acas(load_name)\n",
    "    return acas[obsid]"
   ]
  },
  {
   "cell_type": "code",
   "execution_count": 6,
   "metadata": {},
   "outputs": [],
   "source": [
    "def get_residuals(obss):\n",
    "    dys = []\n",
    "    dzs = []\n",
    "    obsids = []\n",
    "    seen_obs = {}\n",
    "    for obs in obss:\n",
    "        # Skip if we've already seen this obsid.\n",
    "        # Since we're working from kadi.observations, this will also skip\n",
    "        # obsids after SCS107.  That's fine.\n",
    "        if obs['obsid'] in seen_obs:\n",
    "            continue\n",
    "        if obs.get('starcat_date') is None:\n",
    "            continue\n",
    "        if obs['source'] == 'CMD_EVT':\n",
    "            continue\n",
    "        sc = observations.get_starcats(obsid=obs['obsid'], starcat_date=obs['starcat_date'])\n",
    "        obsid = obs['obsid']\n",
    "        aca = get_aca(obsid, obs['source'])\n",
    "        obsids.extend(obsid * np.ones(len(aca)))\n",
    "        dys.extend(list(aca['yang'] - sc[0]['yang']))\n",
    "        dzs.extend(list(aca['zang'] - sc[0]['zang']))\n",
    "        seen_obs[obsid] = 1\n",
    "    return Table([obsids, dys, dzs], names=['obsid', 'dy', 'dz'])\n"
   ]
  },
  {
   "cell_type": "code",
   "execution_count": 7,
   "metadata": {},
   "outputs": [],
   "source": [
    "recent_obs = observations.get_observations(start=CxoTime.now() - 180 * u.day)\n"
   ]
  },
  {
   "cell_type": "code",
   "execution_count": 8,
   "metadata": {},
   "outputs": [],
   "source": [
    "res = get_residuals(recent_obs)"
   ]
  },
  {
   "cell_type": "code",
   "execution_count": 9,
   "metadata": {},
   "outputs": [
    {
     "data": {
      "image/png": "[encoded data removed]",
      "text/plain": [
       "<Figure size 640x480 with 1 Axes>"
      ]
     },
     "metadata": {},
     "output_type": "display_data"
    }
   ],
   "source": [
    "plt.hist(res['dy'], bins=50, alpha=0.5, label='dy');\n",
    "plt.hist(res['dz'], bins=50, alpha=0.5, label='dz');\n",
    "plt.grid()\n",
    "plt.legend();\n",
    "plt.xlabel('proseco pos - backstop pos (arcsec)');"
   ]
  }
 ],
 "metadata": {
  "kernelspec": {
   "display_name": "ska3-flight",
   "language": "python",
   "name": "python3"
  },
  "language_info": {
   "codemirror_mode": {
    "name": "ipython",
    "version": 3
   },
   "file_extension": ".py",
   "mimetype": "text/x-python",
   "name": "python",
   "nbconvert_exporter": "python",
   "pygments_lexer": "ipython3",
   "version": "3.10.8"
  }
 },
 "nbformat": 4,
 "nbformat_minor": 2
}
