{
 "cells": [
  {
   "cell_type": "markdown",
   "metadata": {},
   "source": [
    "# Proposal to adjust commanded MAXMAG based on search hits constraint\n",
    "\n",
    "The MAXMAG value is part of the ACA star catalog that gets uplinked to the\n",
    "OBC and subsequently sent as part of the ACA search command(s) from the OBC\n",
    "to the ACA PEA during star acquisition.\n",
    "\n",
    "MAXMAG is used by the PEA in two ways\n",
    "\n",
    "- For acquisition, it sets the acceptance criterion for search hits to be\n",
    "  considered as candidates for the acq star being searched. A higher value\n",
    "  of MAXMAG means more spurious hits due to CCD dark current non-uniformity\n",
    "  will be accepted. \n",
    "  \n",
    "  It can (and does) happen that the fixed buffer of 50 search hits\n",
    "  per readout can be filled, leading to the intended star candidate\n",
    "  not being found. This can happen regardless of star magnitude.\n",
    "\n",
    "- For guide, it sets the faint threshold at which the PEA drops track of a\n",
    "  star.\n",
    "\n",
    "\n",
    "## Calibrating MAXMAG limit that saturates the 50 search hit buffer\n",
    "\n",
    "Mark Baski used ASVT to empirically calibrate the value of MAXMAG at\n",
    "which the 50 hit buffer fills, as a function of CCD temperature and search box\n",
    "size.\n",
    "\n",
    "https://occweb.cfa.harvard.edu/twiki/bin/view/Aspect/PeaMaxMagTesting\n",
    "\n",
    "<img src=\"PEA_MAXMAG_contours.png\" style=\"width:600px;\">\n",
    "\n",
    "## Code\n",
    "\n",
    "https://github.com/sot/proseco/pull/376"
   ]
  },
  {
   "cell_type": "code",
   "execution_count": 1,
   "metadata": {},
   "outputs": [],
   "source": [
    "import warnings\n",
    "import numpy as np\n",
    "from proseco.acq import MAXMAGS\n",
    "import proseco.characteristics as ACA"
   ]
  },
  {
   "cell_type": "markdown",
   "metadata": {},
   "source": [
    "## Getting MAXMAG search hits constraint from ASVT data\n",
    "\n",
    "The data from the contour plot that Mark Baski generated was translated into\n",
    "a structure that allows for convenient interpolation for an arbitrary CCD \n",
    "temperature and allowed search box size (60, 80, 100, ... 240) arcsec.\n",
    "\n",
    "In this section we show the code and some results."
   ]
  },
  {
   "cell_type": "code",
   "execution_count": 2,
   "metadata": {},
   "outputs": [],
   "source": [
    "def get_maxmag(box_size: int, t_ccd: float) -> float:\n",
    "    \"\"\"\n",
    "    Get maxmag for given box_size and t_ccd.\n",
    "\n",
    "    This corresponds to the MAXMAG that results in exactly 50 search hits. See\n",
    "    https://occweb.cfa.harvard.edu/twiki/bin/view/Aspect/PeaMaxMagTesting.\n",
    "\n",
    "    :param box_size: box size (int, arcsec)\n",
    "    :param t_ccd: CCD temperature (float, C)\n",
    "    :returns: maxmag (float)\n",
    "    \"\"\"\n",
    "    if t_ccd < -10.0:\n",
    "        return 11.2\n",
    "    if t_ccd > 0:\n",
    "        warnings.warn(f\"Clipping {t_ccd=} to 0.0 for interpolating MAXMAGs table\")\n",
    "        t_ccd = 0.0\n",
    "\n",
    "    if box_size not in MAXMAGS:\n",
    "        raise ValueError(\n",
    "            f\"illegal value of box_size={box_size}, must be 60, 80, 100, .., 240\"\n",
    "        )\n",
    "    maxmag = np.interp(t_ccd, xp=MAXMAGS[\"t_ccds\"], fp=MAXMAGS[box_size])\n",
    "\n",
    "    # Need to round to nearest 0.01 mag because of values that are just slightly\n",
    "    # below 11.2. These need to become exactly 11.2.\n",
    "    return maxmag.round(2)\n"
   ]
  },
  {
   "cell_type": "code",
   "execution_count": 3,
   "metadata": {},
   "outputs": [
    {
     "name": "stdout",
     "output_type": "stream",
     "text": [
      "140 -4.0 10.79\n",
      "140 -12.0 11.2\n",
      "220 -10.0 11.15\n"
     ]
    }
   ],
   "source": [
    "print(140, -4.0, get_maxmag(box_size=140, t_ccd=-4))\n",
    "print(140, -12.0, get_maxmag(box_size=140, t_ccd=-12))\n",
    "print(220, -10.0, get_maxmag(box_size=220, t_ccd=-10))\n"
   ]
  },
  {
   "cell_type": "code",
   "execution_count": 4,
   "metadata": {},
   "outputs": [
    {
     "name": "stdout",
     "output_type": "stream",
     "text": [
      "60 2.0 10.9\n"
     ]
    },
    {
     "name": "stderr",
     "output_type": "stream",
     "text": [
      "/var/folders/zn/910d7qgd1ydd4bvww62b6b9r0000gp/T/ipykernel_97242/3923574408.py:15: UserWarning: Clipping t_ccd=2.0 to 0.0 for interpolating MAXMAGs table\n",
      "  warnings.warn(f\"Clipping {t_ccd=} to 0.0 for interpolating MAXMAGs table\")\n"
     ]
    }
   ],
   "source": [
    "print(60, 2.0, get_maxmag(box_size=60, t_ccd=2.0))\n"
   ]
  },
  {
   "cell_type": "code",
   "execution_count": 5,
   "metadata": {},
   "outputs": [
    {
     "name": "stdout",
     "output_type": "stream",
     "text": [
      "illegal value of box_size=70, must be 60, 80, 100, .., 240\n"
     ]
    }
   ],
   "source": [
    "try:\n",
    "    get_maxmag(box_size=70, t_ccd=-2.0)\n",
    "except ValueError as err:\n",
    "    print(err)\n"
   ]
  },
  {
   "cell_type": "markdown",
   "metadata": {},
   "source": [
    "## Filtering the list of box sizes during acquisition star selection\n",
    "\n",
    "The acquisition star selection process starts with a list of possible search\n",
    "box sizes. This function filters that list to exclude any box sizes that would\n",
    "violate the constraint of limiting the number of search hits less than 50."
   ]
  },
  {
   "cell_type": "code",
   "execution_count": 6,
   "metadata": {},
   "outputs": [],
   "source": [
    "def filter_box_sizes_for_maxmag(\n",
    "    mag: float, mag_err: float, box_sizes: np.ndarray, t_ccd: float\n",
    ") -> np.ndarray:\n",
    "    \"\"\"Filter the list of box sizes\n",
    "\n",
    "    First compute the smallest allowed value of MAXMAG for this star, which is\n",
    "    the star mag + 3 times the star mag error (clipped to be within 0.5 to 1.5\n",
    "    mag, nominal).\n",
    "\n",
    "    For each box size and t_ccd compute the MAXMAG that keeps the search hits\n",
    "    at exactly 50. Then keep the box sizes where MAXMAG is less than the star\n",
    "    minimum MAXMAG.\n",
    "\n",
    "    :param mag: star mag (float)\n",
    "    :param mag_err: star mag error (float)\n",
    "    :param box_sizes: ndarray of box sizes (float, arcsec)\n",
    "    :param t_ccd: CCD temperature (float, C)\n",
    "    :returns: ndarray of box sizes (float, arcsec)\n",
    "    \"\"\"\n",
    "    maxmag_min = mag + np.clip(\n",
    "        2 * mag_err, \n",
    "        a_min=ACA.min_delta_maxmag,  # 0.5 mag\n",
    "        a_max=ACA.max_delta_maxmag)  # 1.5 mag\n",
    "    print(f\"{mag=}\")\n",
    "    print(f\"{mag_err=}\")\n",
    "    print(f\"{t_ccd=:.2f}\")\n",
    "    print(f\"{2 * mag_err=:.2f}\")\n",
    "    print(f\"{ACA.min_delta_maxmag=}, {ACA.max_delta_maxmag=}\")\n",
    "    print(f\"Initial {maxmag_min=:.2f}\")\n",
    "\n",
    "    # Hard limit of ACA.max_maxmag (11.2) from operational change made in 2019.\n",
    "    # We always accept a maxmag of 11.2 regardless of star mag / mag_err.\n",
    "    # Starcheck will warn if the mag is too close to maxmag.\n",
    "    maxmag_min = maxmag_min.clip(None, ACA.max_maxmag)\n",
    "    print(f\"After clipping to 11.2 {maxmag_min=:.2f}\")\n",
    "\n",
    "    for box_size in box_sizes:\n",
    "        print(f\"{box_size=} {get_maxmag(box_size, t_ccd)=:.2f}\")\n",
    "    ok = [maxmag_min <= get_maxmag(box_size, t_ccd) for box_size in box_sizes]\n",
    "    out = box_sizes[ok]  # type: np.ndarray\n",
    "\n",
    "    # Always allow at least the smallest box size. This situation will be\n",
    "    # flagged in ACA review.\n",
    "    if len(out) == 0:\n",
    "        out = np.array([60], dtype=np.int64)\n",
    "\n",
    "    return out"
   ]
  },
  {
   "cell_type": "code",
   "execution_count": 7,
   "metadata": {},
   "outputs": [],
   "source": [
    "box_sizes = np.array([60, 80, 100, 120, 140, 160])"
   ]
  },
  {
   "cell_type": "code",
   "execution_count": 8,
   "metadata": {},
   "outputs": [
    {
     "name": "stdout",
     "output_type": "stream",
     "text": [
      "mag=10.2\n",
      "mag_err=0.3\n",
      "t_ccd=-6.00\n",
      "2 * mag_err=0.60\n",
      "ACA.min_delta_maxmag=0.5, ACA.max_delta_maxmag=1.5\n",
      "Initial maxmag_min=10.80\n",
      "After clipping to 11.2 maxmag_min=10.80\n",
      "box_size=60 get_maxmag(box_size, t_ccd)=11.20\n",
      "box_size=80 get_maxmag(box_size, t_ccd)=11.20\n",
      "box_size=100 get_maxmag(box_size, t_ccd)=11.15\n",
      "box_size=120 get_maxmag(box_size, t_ccd)=11.04\n",
      "box_size=140 get_maxmag(box_size, t_ccd)=10.97\n",
      "box_size=160 get_maxmag(box_size, t_ccd)=10.92\n"
     ]
    },
    {
     "data": {
      "text/plain": [
       "array([ 60,  80, 100, 120, 140, 160])"
      ]
     },
     "execution_count": 8,
     "metadata": {},
     "output_type": "execute_result"
    }
   ],
   "source": [
    "filter_box_sizes_for_maxmag(mag=10.2, mag_err=0.3, box_sizes=box_sizes, t_ccd=-6.0)"
   ]
  },
  {
   "cell_type": "code",
   "execution_count": 9,
   "metadata": {},
   "outputs": [
    {
     "name": "stdout",
     "output_type": "stream",
     "text": [
      "mag=10.2\n",
      "mag_err=0.4\n",
      "t_ccd=-6.00\n",
      "2 * mag_err=0.80\n",
      "ACA.min_delta_maxmag=0.5, ACA.max_delta_maxmag=1.5\n",
      "Initial maxmag_min=11.00\n",
      "After clipping to 11.2 maxmag_min=11.00\n",
      "box_size=60 get_maxmag(box_size, t_ccd)=11.20\n",
      "box_size=80 get_maxmag(box_size, t_ccd)=11.20\n",
      "box_size=100 get_maxmag(box_size, t_ccd)=11.15\n",
      "box_size=120 get_maxmag(box_size, t_ccd)=11.04\n",
      "box_size=140 get_maxmag(box_size, t_ccd)=10.97\n",
      "box_size=160 get_maxmag(box_size, t_ccd)=10.92\n"
     ]
    },
    {
     "data": {
      "text/plain": [
       "array([ 60,  80, 100, 120])"
      ]
     },
     "execution_count": 9,
     "metadata": {},
     "output_type": "execute_result"
    }
   ],
   "source": [
    "filter_box_sizes_for_maxmag(mag=10.2, mag_err=0.4, box_sizes=box_sizes, t_ccd=-6.0)"
   ]
  },
  {
   "cell_type": "code",
   "execution_count": 10,
   "metadata": {},
   "outputs": [
    {
     "name": "stdout",
     "output_type": "stream",
     "text": [
      "mag=10.5\n",
      "mag_err=0.05\n",
      "t_ccd=-6.00\n",
      "2 * mag_err=0.10\n",
      "ACA.min_delta_maxmag=0.5, ACA.max_delta_maxmag=1.5\n",
      "Initial maxmag_min=11.00\n",
      "After clipping to 11.2 maxmag_min=11.00\n",
      "box_size=60 get_maxmag(box_size, t_ccd)=11.20\n",
      "box_size=80 get_maxmag(box_size, t_ccd)=11.20\n",
      "box_size=100 get_maxmag(box_size, t_ccd)=11.15\n",
      "box_size=120 get_maxmag(box_size, t_ccd)=11.04\n",
      "box_size=140 get_maxmag(box_size, t_ccd)=10.97\n",
      "box_size=160 get_maxmag(box_size, t_ccd)=10.92\n"
     ]
    },
    {
     "data": {
      "text/plain": [
       "array([ 60,  80, 100, 120])"
      ]
     },
     "execution_count": 10,
     "metadata": {},
     "output_type": "execute_result"
    }
   ],
   "source": [
    "filter_box_sizes_for_maxmag(mag=10.5, mag_err=0.05, box_sizes=box_sizes, t_ccd=-6.0)"
   ]
  },
  {
   "cell_type": "code",
   "execution_count": 11,
   "metadata": {},
   "outputs": [
    {
     "name": "stdout",
     "output_type": "stream",
     "text": [
      "mag=10.9\n",
      "mag_err=0.5\n",
      "t_ccd=-1.00\n",
      "2 * mag_err=1.00\n",
      "ACA.min_delta_maxmag=0.5, ACA.max_delta_maxmag=1.5\n",
      "Initial maxmag_min=11.90\n",
      "After clipping to 11.2 maxmag_min=11.20\n",
      "box_size=60 get_maxmag(box_size, t_ccd)=10.97\n",
      "box_size=80 get_maxmag(box_size, t_ccd)=10.80\n",
      "box_size=100 get_maxmag(box_size, t_ccd)=10.61\n",
      "box_size=120 get_maxmag(box_size, t_ccd)=10.55\n",
      "box_size=140 get_maxmag(box_size, t_ccd)=10.50\n",
      "box_size=160 get_maxmag(box_size, t_ccd)=10.46\n"
     ]
    },
    {
     "data": {
      "text/plain": [
       "array([60])"
      ]
     },
     "execution_count": 11,
     "metadata": {},
     "output_type": "execute_result"
    }
   ],
   "source": [
    "filter_box_sizes_for_maxmag(mag=10.9, mag_err=0.5, box_sizes=box_sizes, t_ccd=-1.0)"
   ]
  },
  {
   "cell_type": "markdown",
   "metadata": {},
   "source": [
    "## Generating the final commanded catalog MAXMAG value"
   ]
  },
  {
   "cell_type": "code",
   "execution_count": 12,
   "metadata": {},
   "outputs": [],
   "source": [
    "def get_maxmag_cmd(mag, box_size, t_ccd):\n",
    "    maxmag_legacy = mag + ACA.max_delta_maxmag  # Legacy MAG + 1.5\n",
    "    print(f\"Unclipped {maxmag_legacy=}\")\n",
    "    \n",
    "    maxmag_legacy = np.clip(maxmag_legacy, None, ACA.max_maxmag)  # Clip to 11.2\n",
    "    maxmag_search_hits = get_maxmag(box_size, t_ccd)  # Search hits < 50 limit\n",
    "    print(f\"Clipped {maxmag_legacy=}\")\n",
    "    print(f\"{maxmag_search_hits=}\")\n",
    "    \n",
    "    maxmag_cmd = min(maxmag_legacy, maxmag_search_hits)\n",
    "    print(f\"{maxmag_cmd=}\")\n"
   ]
  },
  {
   "cell_type": "code",
   "execution_count": 13,
   "metadata": {},
   "outputs": [
    {
     "name": "stdout",
     "output_type": "stream",
     "text": [
      "Unclipped maxmag_legacy=11.7\n",
      "Clipped maxmag_legacy=11.2\n",
      "maxmag_search_hits=10.97\n",
      "maxmag_cmd=10.97\n"
     ]
    }
   ],
   "source": [
    "get_maxmag_cmd(mag=10.2, box_size=140, t_ccd=-6.0)"
   ]
  },
  {
   "cell_type": "code",
   "execution_count": 14,
   "metadata": {},
   "outputs": [
    {
     "name": "stdout",
     "output_type": "stream",
     "text": [
      "Unclipped maxmag_legacy=10.7\n",
      "Clipped maxmag_legacy=10.7\n",
      "maxmag_search_hits=10.97\n",
      "maxmag_cmd=10.7\n"
     ]
    }
   ],
   "source": [
    "get_maxmag_cmd(mag=9.2, box_size=140, t_ccd=-6.0)"
   ]
  },
  {
   "cell_type": "code",
   "execution_count": 15,
   "metadata": {},
   "outputs": [
    {
     "name": "stdout",
     "output_type": "stream",
     "text": [
      "Unclipped maxmag_legacy=12.4\n",
      "Clipped maxmag_legacy=11.2\n",
      "maxmag_search_hits=10.97\n",
      "maxmag_cmd=10.97\n"
     ]
    }
   ],
   "source": [
    "get_maxmag_cmd(mag=10.9, box_size=60, t_ccd=-1.0)"
   ]
  },
  {
   "cell_type": "code",
   "execution_count": null,
   "metadata": {},
   "outputs": [],
   "source": []
  }
 ],
 "metadata": {
  "kernelspec": {
   "display_name": "Python 3 (ipykernel)",
   "language": "python",
   "name": "python3"
  },
  "language_info": {
   "codemirror_mode": {
    "name": "ipython",
    "version": 3
   },
   "file_extension": ".py",
   "mimetype": "text/x-python",
   "name": "python",
   "nbconvert_exporter": "python",
   "pygments_lexer": "ipython3",
   "version": "3.8.12"
  },
  "vscode": {
   "interpreter": {
    "hash": "d2df0004ee630a46de2935730c9c65ee0c09bd3f3b85f07c44dd36ceff3dbd5e"
   }
  }
 },
 "nbformat": 4,
 "nbformat_minor": 4
}
