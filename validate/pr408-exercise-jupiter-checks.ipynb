{
 "cells": [
  {
   "cell_type": "markdown",
   "id": "5b158123",
   "metadata": {},
   "source": [
    "## Jupiter \"fuzz\" testing\n",
    "\n",
    "PR 408 Updates proseco to consider Jupiter in star and fid selection.\n",
    "\n",
    "This notebook simulates observing Jupiter on every date for a calendar year to see if that process\n",
    "\"shakes out\" any oddities.  It looks like at the -3C temperature used for the simulations, that the star\n",
    "field including Jupiter would be \"star field constrained\" for parts of the simulated year, which is not\n",
    "that surprising.  The Jupiter checks look correct."
   ]
  },
  {
   "cell_type": "code",
   "execution_count": 1,
   "id": "71de6c3e",
   "metadata": {},
   "outputs": [],
   "source": [
    "from cxotime import CxoTime\n",
    "from chandra_aca import planets\n",
    "import astropy.units as u\n",
    "from tqdm import tqdm\n",
    "from ska_helpers.retry import retry_call"
   ]
  },
  {
   "cell_type": "code",
   "execution_count": 2,
   "id": "101ed709",
   "metadata": {},
   "outputs": [],
   "source": [
    "import sys\n",
    "sys.path.insert(0, '/Users/jean/git/cheta')\n",
    "sys.path.insert(0, '/Users/jean/git/proseco')\n",
    "sys.path.insert(0, '/Users/jean/git/sparkles')"
   ]
  },
  {
   "cell_type": "code",
   "execution_count": 3,
   "id": "1c49ef5f",
   "metadata": {},
   "outputs": [],
   "source": [
    "import proseco\n",
    "import cheta\n",
    "import sparkles"
   ]
  },
  {
   "cell_type": "code",
   "execution_count": 4,
   "id": "51a7fc5e",
   "metadata": {},
   "outputs": [
    {
     "data": {
      "text/plain": [
       "('4.64.1.dev22+g9dcea5c', '5.16.3.dev47+g0174d0e', '4.29.1.dev14+g69bfcb1')"
      ]
     },
     "execution_count": 4,
     "metadata": {},
     "output_type": "execute_result"
    }
   ],
   "source": [
    "cheta.__version__, proseco.__version__, sparkles.__version__"
   ]
  },
  {
   "cell_type": "code",
   "execution_count": 5,
   "id": "ff91228c",
   "metadata": {},
   "outputs": [],
   "source": [
    "def mock_ocat_jupiter_for_date(date, offset_y=0, offset_z=0, detector=\"HRC-I\"):\n",
    "\n",
    "    jupiter_data = planets.get_planet_chandra_horizons(\"jupiter\", date, date + 1000 * u.s)\n",
    "    ra_targ = jupiter_data[\"ra\"][0]\n",
    "    dec_targ = jupiter_data[\"dec\"][0]\n",
    "\n",
    "    targ = {\n",
    "        \"obs_date\": date.date,\n",
    "        \"detector\": detector,\n",
    "        \"ra_targ\" : ra_targ,\n",
    "        \"dec_targ\": dec_targ,\n",
    "        \"offset_y\": offset_y,\n",
    "        \"offset_z\": offset_z,\n",
    "        \"target_name\": \"JUPITER\",\n",
    "        \"focus_offset\": 0,\n",
    "        \"sim_offset\": 0,\n",
    "    }\n",
    "\n",
    "    cycle = 26\n",
    "\n",
    "    from chandra_aca.drift import get_target_aimpoint\n",
    "\n",
    "    chip_x, chip_y, chip_id = get_target_aimpoint(\n",
    "        date=date, cycle=cycle, detector=detector,\n",
    "    )\n",
    "\n",
    "    targ.update({\"chipx\": chip_x, \"chipy\": chip_y, \"chip_id\": chip_id})\n",
    "\n",
    "    from ska_sun import nominal_roll\n",
    "\n",
    "    # Nominal roll is not quite the same targ and aca but don't care.\n",
    "    targ[\"roll_targ\"] = nominal_roll(ra_targ, dec_targ, date)\n",
    "\n",
    "    # Set dither from defaults\n",
    "    if detector.startswith(\"ACIS\"):\n",
    "        targ.update({\"dither_y\": 16, \"dither_z\": 16})\n",
    "    else:\n",
    "        targ.update({\"dither_y\": 20, \"dither_z\": 20})\n",
    "\n",
    "    return targ"
   ]
  },
  {
   "cell_type": "code",
   "execution_count": 6,
   "id": "6f6cd436",
   "metadata": {},
   "outputs": [],
   "source": [
    "import numpy as np\n",
    "from sparkles import yoshi\n",
    "np.random.seed(0)"
   ]
  },
  {
   "cell_type": "code",
   "execution_count": 7,
   "id": "ad7385d6",
   "metadata": {},
   "outputs": [],
   "source": [
    "def print_acar(acar):\n",
    "    lines = []\n",
    "    lines.append(\"-\" * 40)\n",
    "    lines.append(f\"obsid: {acar.obsid}\")\n",
    "    lines.append(f\"target_name: {acar.target_name}\")\n",
    "    lines.append(f\"P2: {-np.log10(acar.acqs.calc_p_safe())}\")\n",
    "    lines.append(f\"guide count: {acar.guide_count}\")\n",
    "    lines.extend(acar.pformat())\n",
    "    for msg in acar.messages:\n",
    "        lines.append(f\"MSG: {msg}\")\n",
    "    text = \"\\n\".join(lines)\n",
    "    return text"
   ]
  },
  {
   "cell_type": "code",
   "execution_count": 8,
   "id": "d2af8419",
   "metadata": {},
   "outputs": [],
   "source": [
    "def run_proseco(date, obsid, offset_y=0, offset_z=0):\n",
    "    yp = mock_ocat_jupiter_for_date(date, offset_y=offset_y, offset_z=offset_z, detector=\"HRC-I\")\n",
    "    pp = yoshi.convert_yoshi_to_proseco_params(**yp, obsid=obsid, t_ccd=-3, man_angle=90, duration=15000)\n",
    "    aca = proseco.get_aca_catalog(**pp)\n",
    "    acar = aca.get_review_table()\n",
    "    acar.run_aca_review()\n",
    "    return aca, acar"
   ]
  },
  {
   "cell_type": "code",
   "execution_count": 9,
   "id": "4e78747b",
   "metadata": {},
   "outputs": [
    {
     "name": "stderr",
     "output_type": "stream",
     "text": [
      "  0%|          | 0/367 [00:00<?, ?it/s]"
     ]
    },
    {
     "name": "stderr",
     "output_type": "stream",
     "text": [
      "100%|██████████| 367/367 [11:09<00:00,  1.82s/it]\n"
     ]
    }
   ],
   "source": [
    "obs_cnt = 0\n",
    "acas = {}\n",
    "import os\n",
    "out_text_file = \"jupiter_select_output.txt\"\n",
    "if os.path.exists(out_text_file):\n",
    "    os.remove(out_text_file)\n",
    "\n",
    "# Do the last year of days\n",
    "for date in tqdm(CxoTime.linspace(\"2024:250\", \"2025:250\", step_max=1 * u.day)):\n",
    "    obsid = -10000 - obs_cnt\n",
    "    # Select a Y offset between -6 and +6 arcmin\n",
    "    offset_y = np.random.uniform(-6, 6)\n",
    "    # Select a Z offset between -6 and +6 arcmin\n",
    "    offset_z = np.random.uniform(-6, 6)\n",
    "    aca, acar = retry_call(run_proseco, [CxoTime(date), obsid],\n",
    "                           {'offset_y': offset_y, 'offset_z': offset_z}, tries=3, delay=2)\n",
    "    text = print_acar(acar)\n",
    "    text += f\"\\nOffset Y: {offset_y:.2f} arcmin, Offset Z: {offset_z:.2f} arcmin\\n\"\n",
    "    acas[obsid] = aca\n",
    "    obs_cnt += 1\n",
    "    with open(out_text_file, \"a\") as f:\n",
    "        f.write(text + \"\\n\")\n",
    "\n",
    "import pickle\n",
    "import gzip\n",
    "with gzip.open(\"jupiter_select_acas.pkl.gz\", \"wb\") as f:\n",
    "    pickle.dump(acas, f)"
   ]
  },
  {
   "cell_type": "code",
   "execution_count": null,
   "id": "262927a2",
   "metadata": {},
   "outputs": [],
   "source": []
  }
 ],
 "metadata": {
  "kernelspec": {
   "display_name": "ska3-latest",
   "language": "python",
   "name": "python3"
  },
  "language_info": {
   "codemirror_mode": {
    "name": "ipython",
    "version": 3
   },
   "file_extension": ".py",
   "mimetype": "text/x-python",
   "name": "python",
   "nbconvert_exporter": "python",
   "pygments_lexer": "ipython3",
   "version": "3.12.8"
  }
 },
 "nbformat": 4,
 "nbformat_minor": 5
}
