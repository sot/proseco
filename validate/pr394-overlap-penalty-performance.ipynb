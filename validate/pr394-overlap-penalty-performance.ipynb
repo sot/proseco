{
 "cells": [
  {
   "attachments": {},
   "cell_type": "markdown",
   "metadata": {},
   "source": [
    "## Profiling proseco / sparkles for impact of overlap prevention\n"
   ]
  },
  {
   "cell_type": "code",
   "execution_count": 1,
   "metadata": {
    "tags": []
   },
   "outputs": [],
   "source": [
    "import gzip\n",
    "import pickle\n",
    "import sys\n",
    "from pathlib import Path\n",
    "\n",
    "sys.path.insert(0, str(Path.home() / \"git\" / \"proseco\"))"
   ]
  },
  {
   "cell_type": "code",
   "execution_count": 2,
   "metadata": {},
   "outputs": [],
   "source": [
    "import ska_helpers.utils"
   ]
  },
  {
   "cell_type": "code",
   "execution_count": 3,
   "metadata": {},
   "outputs": [
    {
     "name": "stdout",
     "output_type": "stream",
     "text": [
      "5.12.1.dev5+g028bec8.d20240311-r941-028bec8\n",
      "/Users/aldcroft/git/proseco/proseco/__init__.py\n"
     ]
    }
   ],
   "source": [
    "import proseco\n",
    "\n",
    "print(proseco.test(get_version=True))\n",
    "print(proseco.__file__)"
   ]
  },
  {
   "cell_type": "code",
   "execution_count": 4,
   "metadata": {},
   "outputs": [
    {
     "name": "stdout",
     "output_type": "stream",
     "text": [
      "4.26.0\n",
      "/Users/aldcroft/miniconda3/envs/ska3-flight-2024.1rc4/lib/python3.11/site-packages/sparkles/__init__.py\n"
     ]
    }
   ],
   "source": [
    "import sparkles\n",
    "\n",
    "print(sparkles.test(get_version=True))\n",
    "print(sparkles.__file__)"
   ]
  },
  {
   "cell_type": "code",
   "execution_count": 5,
   "metadata": {
    "tags": []
   },
   "outputs": [],
   "source": [
    "filename = \"/Users/aldcroft/ska/data/mpcrit1/mplogs/2022/NOV2122/oflsa/output/NOV2122A_proseco.pkl.gz\"\n",
    "acas_dict = pickle.load(gzip.open(filename, \"rb\"))"
   ]
  },
  {
   "cell_type": "code",
   "execution_count": 6,
   "metadata": {
    "tags": []
   },
   "outputs": [],
   "source": [
    "def run_one(aca, run_proseco=True, run_sparkles=True, overlap_penalty=False):\n",
    "    with ska_helpers.utils.temp_env_var(\n",
    "        \"PROSECO_DISABLE_OVERLAP_PENALTY\", f\"{not overlap_penalty}\"\n",
    "    ):\n",
    "        if run_proseco:\n",
    "            aca = proseco.get_aca_catalog(**aca.call_args)\n",
    "        if run_sparkles:\n",
    "            acar = aca.get_review_table()\n",
    "            acar.run_aca_review()"
   ]
  },
  {
   "cell_type": "code",
   "execution_count": 7,
   "metadata": {},
   "outputs": [],
   "source": [
    "def run_all(acas_dict, run_proseco=True, run_sparkles=True, overlap_penalty=False):\n",
    "    for aca in acas_dict.values():\n",
    "        run_one(\n",
    "            aca,\n",
    "            run_proseco=run_proseco,\n",
    "            run_sparkles=run_sparkles,\n",
    "            overlap_penalty=overlap_penalty,\n",
    "        )"
   ]
  },
  {
   "cell_type": "code",
   "execution_count": 8,
   "metadata": {},
   "outputs": [],
   "source": [
    "run_one(acas_dict[27565])"
   ]
  },
  {
   "cell_type": "code",
   "execution_count": 9,
   "metadata": {},
   "outputs": [
    {
     "name": "stdout",
     "output_type": "stream",
     "text": [
      " \n",
      "*** Profile printout saved to text file 'tmp.txt'.\n"
     ]
    },
    {
     "name": "stdout",
     "output_type": "stream",
     "text": [
      "         24042098 function calls (23194508 primitive calls) in 12.765 seconds\n",
      "\n",
      "   Ordered by: cumulative time\n",
      "   List reduced from 1409 to 20 due to restriction <20>\n",
      "\n",
      "   ncalls  tottime  percall  cumtime  percall filename:lineno(function)\n",
      "    133/1    0.000    0.000   12.766   12.766 {built-in method builtins.exec}\n",
      "        1    0.008    0.008   12.766   12.766 1492753284.py:1(run_all)\n",
      "       37    0.001    0.000   12.758    0.345 1317233785.py:1(run_one)\n",
      "       37    0.000    0.000   12.757    0.345 __init__.py:6(get_aca_catalog)\n",
      "       37    0.000    0.000   12.756    0.345 catalog.py:47(get_aca_catalog)\n",
      "       37    0.004    0.000   12.756    0.345 catalog.py:82(_get_aca_catalog)\n",
      "       37    0.004    0.000    7.766    0.210 acq.py:180(get_acq_catalog)\n",
      "      709    0.080    0.000    5.133    0.007 acq.py:1553(__init__)\n",
      "    14889    0.172    0.000    3.121    0.000 acq.py:880(calc_p_brightest)\n",
      "       37    0.002    0.000    3.094    0.084 guide.py:33(get_guide_catalog)\n",
      "       37    0.003    0.000    2.565    0.069 guide.py:247(run_search_stages)\n",
      "      205    0.026    0.000    2.352    0.011 guide.py:434(search_stage)\n",
      "     4254    0.036    0.000    1.804    0.000 star_probs.py:269(acq_success_prob)\n",
      "   107068    0.203    0.000    1.800    0.000 column.py:702(__array_finalize__)\n",
      "    29778    0.112    0.000    1.660    0.000 acq.py:1452(get_intruders)\n",
      "       37    0.008    0.000    1.644    0.044 acq.py:1131(optimize_catalog)\n",
      "     1005    0.019    0.000    1.385    0.001 acq.py:1029(optimize_acq_halfw)\n",
      "1305282/918871    0.764    0.000    1.354    0.000 column.py:1260(__setattr__)\n",
      "      131    0.001    0.000    1.350    0.010 function_base.py:3992(percentile)\n",
      "      131    0.000    0.000    1.348    0.010 function_base.py:4547(_quantile_unchecked)"
     ]
    }
   ],
   "source": [
    "%prun -T tmp.txt -l 20 -s cumulative run_all(acas_dict, run_sparkles=False, overlap_penalty=False)"
   ]
  },
  {
   "cell_type": "code",
   "execution_count": 10,
   "metadata": {},
   "outputs": [
    {
     "name": "stdout",
     "output_type": "stream",
     "text": [
      " \n",
      "*** Profile printout saved to text file 'tmp.txt'.\n"
     ]
    },
    {
     "name": "stdout",
     "output_type": "stream",
     "text": [
      "         24432417 function calls (23588458 primitive calls) in 12.983 seconds\n",
      "\n",
      "   Ordered by: cumulative time\n",
      "   List reduced from 1410 to 30 due to restriction <30>\n",
      "\n",
      "   ncalls  tottime  percall  cumtime  percall filename:lineno(function)\n",
      "    137/1    0.000    0.000   12.985   12.985 {built-in method builtins.exec}\n",
      "        1    0.009    0.009   12.985   12.985 1492753284.py:1(run_all)\n",
      "       37    0.000    0.000   12.976    0.351 1317233785.py:1(run_one)\n",
      "       37    0.000    0.000   12.975    0.351 __init__.py:6(get_aca_catalog)\n",
      "       37    0.000    0.000   12.975    0.351 catalog.py:47(get_aca_catalog)\n",
      "       37    0.004    0.000   12.974    0.351 catalog.py:82(_get_aca_catalog)\n",
      "       37    0.004    0.000    8.046    0.217 acq.py:180(get_acq_catalog)\n",
      "      709    0.081    0.000    5.163    0.007 acq.py:1553(__init__)\n",
      "    14889    0.173    0.000    3.142    0.000 acq.py:880(calc_p_brightest)\n",
      "       37    0.002    0.000    3.104    0.084 guide.py:33(get_guide_catalog)\n",
      "       37    0.003    0.000    2.573    0.070 guide.py:247(run_search_stages)\n",
      "      205    0.027    0.000    2.356    0.011 guide.py:434(search_stage)\n",
      "       37    0.008    0.000    1.841    0.050 acq.py:1131(optimize_catalog)\n",
      "   107102    0.204    0.000    1.816    0.000 column.py:702(__array_finalize__)\n",
      "     4254    0.036    0.000    1.811    0.000 star_probs.py:269(acq_success_prob)\n",
      "    29778    0.113    0.000    1.673    0.000 acq.py:1452(get_intruders)\n",
      "      989    0.020    0.000    1.576    0.002 acq.py:1029(optimize_acq_halfw)\n",
      "     5578    0.077    0.000    1.389    0.000 acq.py:978(calc_p_safe)\n",
      "1305982/919361    0.773    0.000    1.367    0.000 column.py:1260(__setattr__)\n",
      "      131    0.001    0.000    1.349    0.010 function_base.py:3992(percentile)\n",
      "      131    0.000    0.000    1.347    0.010 function_base.py:4547(_quantile_unchecked)\n",
      "      131    0.000    0.000    1.347    0.010 function_base.py:3763(_ureduce)\n",
      "      131    0.000    0.000    1.346    0.010 function_base.py:4697(_quantile_ureduce_func)\n",
      "      131    0.002    0.000    1.330    0.010 function_base.py:4765(_quantile)\n",
      "     4254    0.061    0.000    1.324    0.000 star_probs.py:589(grid_model_acq_prob)\n",
      "      131    1.319    0.010    1.319    0.010 {method 'partition' of 'numpy.ndarray' objects}\n",
      "    14889    0.063    0.000    1.175    0.000 acq.py:1416(calc_p_brightest_compare)\n",
      "      709    0.368    0.001    1.168    0.002 acq.py:1253(get_imposter_stars)\n",
      "   107102    0.148    0.000    1.037    0.000 column.py:1114(_copy_attrs)\n",
      "       72    0.002    0.000    0.982    0.014 acq.py:1103(optimize_acqs_halfw)"
     ]
    }
   ],
   "source": [
    "%prun -T tmp.txt -l 30 -s cumulative run_all(acas_dict, run_sparkles=False, overlap_penalty=True)"
   ]
  },
  {
   "cell_type": "code",
   "execution_count": 11,
   "metadata": {},
   "outputs": [
    {
     "data": {
      "text/plain": [
       "1.0769230769230769"
      ]
     },
     "execution_count": 11,
     "metadata": {},
     "output_type": "execute_result"
    }
   ],
   "source": [
    "14.0 / 13.0"
   ]
  },
  {
   "cell_type": "code",
   "execution_count": 12,
   "metadata": {},
   "outputs": [
    {
     "name": "stdout",
     "output_type": "stream",
     "text": [
      "CPU times: user 245 ms, sys: 3.24 ms, total: 248 ms\n",
      "Wall time: 247 ms\n"
     ]
    }
   ],
   "source": [
    "%time run_one(acas_dict[27565])"
   ]
  },
  {
   "cell_type": "code",
   "execution_count": 13,
   "metadata": {},
   "outputs": [
    {
     "data": {
      "text/plain": [
       "dict_keys([27565.0, 27566.0, 25219.0, 27223.0, 27567.0, 27571.0, 26874.0, 27051.0, 26644.0, 45049.0, 45048.0, 45046.0, 45045.0, 27477.0, 25873.0, 25321.0, 27564.0, 27570.0, 27484.0, 26855.0, 26500.0, 45044.0, 45043.0, 45042.0, 45040.0, 45039.0, 45038.0, 26718.0, 27483.0, 25963.0, 27568.0, 27522.0, 25938.0, 27569.0, 25937.0, 26870.0, 45037.0])"
      ]
     },
     "execution_count": 13,
     "metadata": {},
     "output_type": "execute_result"
    }
   ],
   "source": [
    "acas_dict.keys()"
   ]
  },
  {
   "cell_type": "code",
   "execution_count": 14,
   "metadata": {},
   "outputs": [
    {
     "name": "stdout",
     "output_type": "stream",
     "text": [
      "CPU times: user 7.37 s, sys: 82.8 ms, total: 7.45 s\n",
      "Wall time: 7.34 s\n"
     ]
    }
   ],
   "source": [
    "%time run_all(acas_dict, run_sparkles=False, overlap_penalty=False)"
   ]
  },
  {
   "cell_type": "code",
   "execution_count": 15,
   "metadata": {
    "collapsed": true,
    "jupyter": {
     "outputs_hidden": true
    }
   },
   "outputs": [
    {
     "name": "stdout",
     "output_type": "stream",
     "text": [
      "CPU times: user 7.45 s, sys: 81.6 ms, total: 7.53 s\n",
      "Wall time: 7.41 s\n"
     ]
    }
   ],
   "source": [
    "%time run_all(acas_dict, run_sparkles=False, overlap_penalty=True)"
   ]
  },
  {
   "cell_type": "code",
   "execution_count": 16,
   "metadata": {},
   "outputs": [],
   "source": [
    "%load_ext line_profiler"
   ]
  },
  {
   "cell_type": "code",
   "execution_count": 17,
   "metadata": {},
   "outputs": [],
   "source": [
    "from proseco.acq import AcqTable"
   ]
  },
  {
   "cell_type": "code",
   "execution_count": 18,
   "metadata": {},
   "outputs": [
    {
     "name": "stdout",
     "output_type": "stream",
     "text": [
      "Timer unit: 1e-09 s\n",
      "\n",
      "Total time: 1.42739 s\n",
      "File: /Users/aldcroft/git/proseco/proseco/acq.py\n",
      "Function: calc_p_safe at line 978\n",
      "\n",
      "Line #      Hits         Time  Per Hit   % Time  Line Contents\n",
      "==============================================================\n",
      "   978                                               def calc_p_safe(self, verbose=False):\n",
      "   979                                                   \"\"\"\n",
      "   980                                                   Calculate the probability of a safing action resulting from failure\n",
      "   981                                                   to acquire at least two (2) acquisition stars.\n",
      "   982                                           \n",
      "   983                                                   This uses the probability of 2 or fewer stars => \"conservative\" p_fail at this\n",
      "   984                                                   man_err.  This uses 2 stars instead of 1 or fewer (which is the actual criteria\n",
      "   985                                                   for a safing action).  This allows for one star to be dropped for reasons not\n",
      "   986                                                   reflected in the acq model probability and makes the optimization dig a bit deeper\n",
      "   987                                                   in to the catalog beyond the brightest stars.\n",
      "   988                                           \n",
      "   989                                                   :returns: p_safe (float)\n",
      "   990                                           \n",
      "   991                                                   \"\"\"\n",
      "   992                                           \n",
      "   993      5578    1018000.0    182.5      0.1          p_no_safe = 1.0\n",
      "   994                                           \n",
      "   995      5578    5092000.0    912.9      0.4          self_halfws = self[\"halfw\"]\n",
      "   996      5578    4736000.0    849.0      0.3          self_probs = self[\"probs\"]\n",
      "   997      5578  234601000.0  42058.3     16.4          overlap_penalties = self.get_overlap_penalties()\n",
      "   998                                           \n",
      "   999     39046   31542000.0    807.8      2.2          for man_err, p_man_err in zip(ACQ.man_errs, self.p_man_errs):\n",
      "  1000     33468    6892000.0    205.9      0.5              if p_man_err == 0.0:\n",
      "  1001                                                           continue\n",
      "  1002                                           \n",
      "  1003     66936  860977000.0  12862.7     60.3              p_acqs = [\n",
      "  1004                                                           prob.p_acqs(halfw, man_err, self) * overlap_penalty\n",
      "  1005     66936   16202000.0    242.1      1.1                  for halfw, prob, overlap_penalty in zip(\n",
      "  1006     33468    5132000.0    153.3      0.4                      self_halfws, self_probs, overlap_penalties\n",
      "  1007                                                           )\n",
      "  1008                                                       ]\n",
      "  1009                                           \n",
      "  1010     33468  217143000.0   6488.1     15.2              p_n_cum = prob_n_acq(p_acqs)[1]  # This returns (p_n, p_n_cum)\n",
      "  1011                                           \n",
      "  1012                                                       # Probability of 2 or fewer stars => conservative fail criteria\n",
      "  1013     33468   11456000.0    342.3      0.8              p2 = p_n_cum[2]\n",
      "  1014                                           \n",
      "  1015     33468    4970000.0    148.5      0.3              if verbose:\n",
      "  1016       240    1462000.0   6091.7      0.1                  self.log(f\"man_err = {man_err}, p_man_err = {p_man_err}\")\n",
      "  1017       480    1020000.0   2125.0      0.1                  self.log(\n",
      "  1018       240    1237000.0   5154.2      0.1                      \"p_acqs =\" + \" \".join([\"{:.3f}\".format(val) for val in p_acqs])\n",
      "  1019                                                           )\n",
      "  1020       240    1414000.0   5891.7      0.1                  self.log(\"log10(p 2_or_fewer) = {:.2f}\".format(np.log10(p2)))\n",
      "  1021                                           \n",
      "  1022     33468   14741000.0    440.5      1.0              p_no_safe *= 1 - p_man_err * p2\n",
      "  1023                                           \n",
      "  1024      5578    1371000.0    245.8      0.1          p_safe = 1 - p_no_safe\n",
      "  1025      5578    5419000.0    971.5      0.4          self.p_safe = p_safe\n",
      "  1026                                           \n",
      "  1027      5578     960000.0    172.1      0.1          return p_safe"
     ]
    }
   ],
   "source": [
    "%lprun -f AcqTable.calc_p_safe run_all(acas_dict, run_sparkles=False, overlap_penalty=True)"
   ]
  },
  {
   "cell_type": "code",
   "execution_count": 19,
   "metadata": {},
   "outputs": [
    {
     "name": "stdout",
     "output_type": "stream",
     "text": [
      "Timer unit: 1e-09 s\n",
      "\n",
      "Total time: 0.42878 s\n",
      "File: /Users/aldcroft/git/proseco/proseco/acq.py\n",
      "Function: get_overlap_penalties at line 938\n",
      "\n",
      "Line #      Hits         Time  Per Hit   % Time  Line Contents\n",
      "==============================================================\n",
      "   938                                               def get_overlap_penalties(self):\n",
      "   939                                                   \"\"\"\n",
      "   940                                                   Get the penalties for overlapping boxes.\n",
      "   941                                           \n",
      "   942                                                   :returns: list of penalties (float)\n",
      "   943                                                   \"\"\"\n",
      "   944      5678    3679000.0    647.9      0.9          n_acq = len(self)\n",
      "   945      5678   13418000.0   2363.2      3.1          penalties = np.ones(n_acq)\n",
      "   946      5678   11273000.0   1985.4      2.6          if os.environ.get(\"PROSECO_DISABLE_OVERLAP_PENALTY\") == \"True\":\n",
      "   947                                                       return penalties\n",
      "   948                                           \n",
      "   949      5678    7538000.0   1327.6      1.8          mags = self[\"mag\"].data\n",
      "   950      5678    6881000.0   1211.9      1.6          halfws = self[\"halfw\"].data\n",
      "   951      5678    6862000.0   1208.5      1.6          yangs = self[\"yang\"].data\n",
      "   952      5678    6801000.0   1197.8      1.6          zangs = self[\"zang\"].data\n",
      "   953                                           \n",
      "   954     51515   11313000.0    219.6      2.6          for idx1 in range(n_acq):\n",
      "   955     45837   10183000.0    222.2      2.4              mag1 = mags[idx1]\n",
      "   956     45837    9572000.0    208.8      2.2              halfw1 = halfws[idx1]\n",
      "   957     45837    9494000.0    207.1      2.2              yang1 = yangs[idx1]\n",
      "   958     45837    9131000.0    199.2      2.1              zang1 = zangs[idx1]\n",
      "   959                                           \n",
      "   960    210272   70614000.0    335.8     16.5              for idx2 in range(idx1 + 1, n_acq):\n",
      "   961    164435   40762000.0    247.9      9.5                  mag2 = mags[idx2]\n",
      "   962    164435   33975000.0    206.6      7.9                  halfw2 = halfws[idx2]\n",
      "   963    164435   35753000.0    217.4      8.3                  yang2 = yangs[idx2]\n",
      "   964    164435   32618000.0    198.4      7.6                  zang2 = zangs[idx2]\n",
      "   965    164435   41125000.0    250.1      9.6                  overlap_threshold = halfw1 + halfw2 + OVERLAP_PAD\n",
      "   966                                                           if (\n",
      "   967    164435   59643000.0    362.7     13.9                      abs(yang1 - yang2) < overlap_threshold\n",
      "   968     17640    6432000.0    364.6      1.5                      and abs(zang1 - zang2) < overlap_threshold\n",
      "   969                                                           ):\n",
      "   970       260     587000.0   2257.7      0.1                      if mag1 + OVERLAP_MAG_DEADBAND < mag2:\n",
      "   971                                                                   # Star 1 is at least 0.2 mag brighter than star 2\n",
      "   972       234      85000.0    363.2      0.0                          penalties[idx1] = OVERLAP_P_ACQ_PENALTY\n",
      "   973        26      37000.0   1423.1      0.0                      elif mag2 + OVERLAP_MAG_DEADBAND < mag1:\n",
      "   974        11       4000.0    363.6      0.0                          penalties[idx2] = OVERLAP_P_ACQ_PENALTY\n",
      "   975                                           \n",
      "   976      5678    1000000.0    176.1      0.2          return penalties"
     ]
    }
   ],
   "source": [
    "%lprun -f AcqTable.get_overlap_penalties run_all(acas_dict, run_sparkles=False, overlap_penalty=True)"
   ]
  },
  {
   "cell_type": "code",
   "execution_count": null,
   "metadata": {},
   "outputs": [],
   "source": []
  }
 ],
 "metadata": {
  "kernelspec": {
   "display_name": "ska3",
   "language": "python",
   "name": "python3"
  },
  "language_info": {
   "codemirror_mode": {
    "name": "ipython",
    "version": 3
   },
   "file_extension": ".py",
   "mimetype": "text/x-python",
   "name": "python",
   "nbconvert_exporter": "python",
   "pygments_lexer": "ipython3",
   "version": "3.11.8"
  }
 },
 "nbformat": 4,
 "nbformat_minor": 4
}
