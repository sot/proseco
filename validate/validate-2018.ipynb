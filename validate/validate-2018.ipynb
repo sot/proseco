{
 "cells": [
  {
   "cell_type": "markdown",
   "metadata": {},
   "source": [
    "# Validate proseco star and fid selection for 2018 obsids\n",
    "\n",
    "This is a notebook to do validation of the acquisition and guide stars and the fids\n",
    "that are selected by proseco.  The sample is all obsids with a star catalog between 2018:001 and 2018:250.\n",
    "\n",
    "The focus here is on acquisition star quality compared to the as-run flight catalogs.  These come from the original SAUSAGE-selected catalogs but in most of the worst cases include hand-edits suggested by ACA reviewers.\n",
    "\n",
    "This notebook also provides information about performance and the distribution of run time to select a catalog."
   ]
  },
  {
   "cell_type": "code",
   "execution_count": 117,
   "metadata": {
    "collapsed": true
   },
   "outputs": [],
   "source": [
    "from pathlib import Path\n",
    "import sys\n",
    "import os\n",
    "from pprint import pprint\n",
    "sys.path.insert(0, str(Path(os.environ['HOME'], 'git', 'mica')))\n",
    "sys.path.insert(0, str(Path(os.environ['HOME'], 'git', 'proseco')))\n",
    "\n",
    "from astropy.table import Table\n",
    "\n",
    "from kadi.commands.states import get_states\n",
    "from mica.starcheck import get_starcheck_catalog\n",
    "from proseco import get_aca_catalog\n",
    "from proseco.catalog import ACATable\n",
    "from proseco.core import ACACatalogTable\n",
    "from proseco.report import make_report\n",
    "from chandra_aca.star_probs import acq_success_prob, prob_n_acq\n",
    "import proseco\n",
    "import agasc\n",
    "import matplotlib.pyplot as plt\n",
    "\n",
    "%matplotlib inline"
   ]
  },
  {
   "cell_type": "code",
   "execution_count": 2,
   "metadata": {},
   "outputs": [
    {
     "name": "stdout",
     "output_type": "stream",
     "text": [
      "1.2.1-r364-5cf1de5\n"
     ]
    }
   ],
   "source": [
    "version = proseco.test(get_version=True)\n",
    "print(version)"
   ]
  },
  {
   "cell_type": "code",
   "execution_count": 3,
   "metadata": {
    "collapsed": true
   },
   "outputs": [],
   "source": [
    "data_dir = Path('run_' + version)\n",
    "data_dir.mkdir(exist_ok=True)"
   ]
  },
  {
   "cell_type": "code",
   "execution_count": 4,
   "metadata": {
    "collapsed": true
   },
   "outputs": [],
   "source": [
    "states = get_states(start='2018:001', stop='2018:250', state_keys=['obsid'])\n",
    "obsids = states['obsid']"
   ]
  },
  {
   "cell_type": "code",
   "execution_count": 163,
   "metadata": {},
   "outputs": [
    {
     "data": {
      "text/plain": [
       "1258"
      ]
     },
     "execution_count": 163,
     "metadata": {},
     "output_type": "execute_result"
    }
   ],
   "source": [
    "len(obsids)"
   ]
  },
  {
   "cell_type": "code",
   "execution_count": 5,
   "metadata": {
    "collapsed": true
   },
   "outputs": [],
   "source": [
    "def process_obsid(obsid):\n",
    "    dirpath = data_dir / f'obs{obsid:05}'\n",
    "    if (dirpath / 'aca_cat.pkl').exists():\n",
    "        return\n",
    "    try:\n",
    "        obs = get_starcheck_catalog(obsid)\n",
    "        starcat = obs['cat']\n",
    "        assert isinstance(starcat, Table)\n",
    "    except:\n",
    "        # print(f'\\nObsid {obsid} has no starcheck catalog')\n",
    "        return\n",
    "    \n",
    "    probs = [p_acq for p_acq in starcat['p_acq']\n",
    "             if p_acq is not None]\n",
    "    p_n_or_fewer = prob_n_acq(probs)[1]\n",
    "    sausage_P2 = -np.log10(p_n_or_fewer[2])\n",
    "    # print(obsid, sausage_P2)\n",
    "    \n",
    "    aca = get_aca_catalog(obsid)\n",
    "    \n",
    "    if aca.exception:\n",
    "        print(f'\\nObsid {obsid} failed')\n",
    "        dirpath.mkdir(exist_ok=True)\n",
    "        with open(dirpath / 'exception', 'w') as fh:\n",
    "            fh.write(aca.exception)\n",
    "    else:\n",
    "        aca.to_pickle(data_dir)"
   ]
  },
  {
   "cell_type": "code",
   "execution_count": 7,
   "metadata": {},
   "outputs": [
    {
     "name": "stdout",
     "output_type": "stream",
     "text": [
      "..................................................\n",
      "..................................................\n",
      "..................................................\n",
      "..................................................\n",
      "..................................................\n",
      "..................................................\n",
      "..................................................\n",
      "..................................................\n",
      "..................................................\n",
      "..................................................\n",
      "..................................................\n",
      "..................................................\n",
      "..................................................\n",
      "..................................................\n",
      "..................................................\n",
      "..................................................\n",
      "..................................................\n",
      "..................................................\n",
      "..................................................\n",
      "..................................................\n",
      "..................................................\n",
      "..................................................\n",
      "..................................................\n",
      "..................................................\n",
      "..................................................\n",
      "........"
     ]
    }
   ],
   "source": [
    "for ii, obsid in enumerate(obsids):\n",
    "    print('.', end='')\n",
    "    if ii % 50 == 49:\n",
    "        print()\n",
    "    process_obsid(obsid)"
   ]
  },
  {
   "cell_type": "code",
   "execution_count": 164,
   "metadata": {
    "collapsed": true
   },
   "outputs": [],
   "source": [
    "def get_info(obsid, include_aca=False):\n",
    "    aca = ACATable.from_pickle(obsid, rootdir=data_dir)\n",
    "    out = {'obsid': obsid,\n",
    "           'acq_thumb': aca.acqs.thumbs_up,\n",
    "           'gui_thumb': aca.guides.thumbs_up,\n",
    "           'fid_thumb': aca.fids.thumbs_up}\n",
    "    \n",
    "    rows = [(event['data'], event['dt']) for event in aca.log_info['events']]\n",
    "    events = Table(rows=rows, names=['data', 'dt'])\n",
    "    events.add_index('data')\n",
    "    \n",
    "    t0_acq = events.loc['Starting get_acq_catalog']['dt']\n",
    "    t0_fid = events.loc['Starting get_fid_catalog']['dt']\n",
    "    t0_opt = events.loc['Starting optimize_acqs_fids']['dt']\n",
    "    t0_guide = events.loc['Starting get_guide_catalog']['dt']\n",
    "    t0_merge = events.loc['Starting merge_cats']['dt']\n",
    "    t_end = events.loc['Finished aca_get_catalog']['dt']\n",
    "    \n",
    "    out['t_acq'] = t0_fid - t0_acq\n",
    "    out['t_fid'] = t0_opt - t0_fid\n",
    "    out['t_opt'] = t0_guide - t0_opt\n",
    "    out['t_guide'] = t0_merge - t0_guide\n",
    "    out['t_merge'] = t_end - t0_merge\n",
    "    out['t_total'] = t_end - t0_acq\n",
    "\n",
    "    acqs = aca.acqs\n",
    "    t_ccd = acqs.t_ccd\n",
    "    date = acqs.date\n",
    "    color = acqs['color']\n",
    "    mag = acqs['mag']\n",
    "    halfw = acqs['halfw']\n",
    "    \n",
    "    probs = [acq['probs'].p_acq_model(acq['halfw']) for acq in acqs]\n",
    "    # probs = acq_success_prob(t_ccd=t_ccd, date=date, color=color, mag=mag,\n",
    "    #                         halfwidth=halfw)\n",
    "    _, p_n_or_fewer = prob_n_acq(probs)\n",
    "    out['proseco_P2'] = -np.log10(p_n_or_fewer[2])\n",
    "    out['thumbs_P2'] = -acqs.get_log_p_2_or_fewer()\n",
    "    \n",
    "    acq_hand_edit = False\n",
    "    guide_hand_edit = False\n",
    "    probs = []\n",
    "    for acq in aca.starcheck_catalog['cat']:\n",
    "        if acq['p_acq'] is None:\n",
    "            continue\n",
    "        if 'aX' in acq['pass']:\n",
    "            acq_hand_edit = True\n",
    "        if 'gX' in acq['pass']:\n",
    "            guide_hand_edit = True\n",
    "            \n",
    "        halfw = acq['halfw']\n",
    "        try:\n",
    "            acq0 = acqs.cand_acqs.get_id(acq['id'])\n",
    "            mag = acq0['mag']\n",
    "            color = acq0['color']\n",
    "        except KeyError:\n",
    "            star = agasc.get_star(acq['id'])\n",
    "            color = star['COLOR1']\n",
    "            mag = star['MAG_ACA']\n",
    "\n",
    "        prob = acq_success_prob(t_ccd=t_ccd, date=date, color=color, mag=mag,\n",
    "                                halfwidth=halfw)\n",
    "        probs.append(prob)\n",
    "\n",
    "\n",
    "    _, p_n_or_fewer = prob_n_acq(probs)\n",
    "    out['sausage_P2'] = -np.log10(p_n_or_fewer[2])\n",
    "    out['acq_hand_edit'] = acq_hand_edit\n",
    "    out['guide_hand_edit'] = guide_hand_edit\n",
    "    \n",
    "    if include_aca:\n",
    "        out['aca'] = aca\n",
    "    \n",
    "    return out"
   ]
  },
  {
   "cell_type": "code",
   "execution_count": 165,
   "metadata": {},
   "outputs": [
    {
     "name": "stdout",
     "output_type": "stream",
     "text": [
      "99\n",
      "199\n",
      "299\n",
      "399\n",
      "499\n",
      "599\n",
      "699\n",
      "799\n",
      "899\n",
      "999\n",
      "1099\n",
      "1199\n"
     ]
    }
   ],
   "source": [
    "rows = []\n",
    "for ii, obsid in enumerate(obsids[1:]):\n",
    "    if ii % 100 == 99:\n",
    "        print(ii)\n",
    "    if (data_dir / f'obs{obsid}' / 'aca_cat.pkl').exists():\n",
    "        rows.append(get_info(obsid))"
   ]
  },
  {
   "cell_type": "code",
   "execution_count": 167,
   "metadata": {},
   "outputs": [],
   "source": [
    "dat = Table(rows, names='obsid acq_thumb fid_thumb gui_thumb acq_hand_edit guide_hand_edit thumbs_P2 proseco_P2 '\n",
    "            'sausage_P2 t_acq t_fid t_guide t_merge t_opt t_total'.split())\n",
    "dat['thumbs_P2'].format = '.2f'\n",
    "dat['proseco_P2'].format = '.2f'\n",
    "dat['sausage_P2'].format = '.2f'\n",
    "dat.sort('sausage_P2')"
   ]
  },
  {
   "cell_type": "code",
   "execution_count": 170,
   "metadata": {},
   "outputs": [
    {
     "data": {
      "text/plain": [
       "51"
      ]
     },
     "execution_count": 170,
     "metadata": {},
     "output_type": "execute_result"
    }
   ],
   "source": [
    "np.count_nonzero(dat['acq_hand_edit'] | dat['guide_hand_edit'])"
   ]
  },
  {
   "cell_type": "markdown",
   "metadata": {},
   "source": [
    "## P2 metrics (e.g obsid 19409)\n",
    "\n",
    "P2 => -log10(probability of 2 or fewer)\n",
    "\n",
    "- `thumbs_P2`: P2 using `p_acq` marginalized over maneuver errors for proseco catalog\n",
    "- `proseco_P2`: P2 using `p_acq_model` for proseco catalog\n",
    "- `sausage_P2`: P2 using `p_acq_model` for flight (SAUSAGE) catalog (possibly w/ hand-edits)\n",
    "\n",
    "`proseco_P2` and `sausage_P2` are an apples-to-apples comparison of the quality of catalog, IGNORING spoiler stars and imposter hot pixels.  This is essentially what current starcheck (pre-proseco) uses.\n",
    "\n",
    "`thumbs_P2` is the same metric but using the full probability model that includes everything.  It is always <= `proseco_P2` because `p_acq_model` is always multiplied by values <= 1.  This is what proseco uses for the acq catalog `thumbs_up` flag.\n",
    "\n",
    "Obsid 19409 provides an interesting cases where the marginalized probability\n",
    "is substantially worse than the straight acq model probability."
   ]
  },
  {
   "cell_type": "code",
   "execution_count": 76,
   "metadata": {
    "collapsed": true
   },
   "outputs": [],
   "source": [
    "obs = get_info(19409, include_aca=True)\n",
    "acqs = obs['aca'].acqs"
   ]
  },
  {
   "cell_type": "code",
   "execution_count": 77,
   "metadata": {},
   "outputs": [
    {
     "data": {
      "text/plain": [
       "['0.985', '0.674', '0.919', '0.876', '0.552', '0.512', '0.392', '0.260']"
      ]
     },
     "execution_count": 77,
     "metadata": {},
     "output_type": "execute_result"
    }
   ],
   "source": [
    "[f'{p:.3f}' for p in acqs['p_acq']]  # marginalized"
   ]
  },
  {
   "cell_type": "code",
   "execution_count": 78,
   "metadata": {},
   "outputs": [
    {
     "data": {
      "text/plain": [
       "['0.985', '0.955', '0.919', '0.876', '0.555', '0.580', '0.408', '0.295']"
      ]
     },
     "execution_count": 78,
     "metadata": {},
     "output_type": "execute_result"
    }
   ],
   "source": [
    "[f'{acq[\"probs\"].p_acq_model(acq[\"halfw\"]):.3f}' for acq in acqs]"
   ]
  },
  {
   "cell_type": "code",
   "execution_count": 79,
   "metadata": {},
   "outputs": [
    {
     "name": "stdout",
     "output_type": "stream",
     "text": [
      "proseco_P2 = 2.722\n"
     ]
    }
   ],
   "source": [
    "# Overly optimistic because it ignores spoilers\n",
    "print(f'proseco_P2 = {obs[\"proseco_P2\"]:.3f}')"
   ]
  },
  {
   "cell_type": "code",
   "execution_count": 80,
   "metadata": {},
   "outputs": [
    {
     "name": "stdout",
     "output_type": "stream",
     "text": [
      "thumbs_P2 = 2.051\n"
     ]
    }
   ],
   "source": [
    "# The hard truth\n",
    "print(f'thumbs_P2 = {obs[\"thumbs_P2\"]:.3f}')"
   ]
  },
  {
   "cell_type": "code",
   "execution_count": 81,
   "metadata": {},
   "outputs": [
    {
     "name": "stdout",
     "output_type": "stream",
     "text": [
      "sausage_P2 = 1.427\n"
     ]
    }
   ],
   "source": [
    "# But still better than SAUSAGE\n",
    "print(f'sausage_P2 = {obs[\"sausage_P2\"]:.3f}')"
   ]
  },
  {
   "cell_type": "markdown",
   "metadata": {},
   "source": [
    "## Acquisition star hand-edits: 34 in 2018:001 through 2018:250"
   ]
  },
  {
   "cell_type": "code",
   "execution_count": 82,
   "metadata": {
    "scrolled": false
   },
   "outputs": [
    {
     "name": "stdout",
     "output_type": "stream",
     "text": [
      "('21001, 21135, 21007, 21136, 19757, 20603, 20351, 21074, 19670, 20655, 19441, '\n",
      " '20394, 21068, 20403, 19351, 20612, 20532, 20902, 19647, 19515, 21005, 19425, '\n",
      " '19669, 21069, 19676, 19650, 20707, 20896, 19683, 20266, 20987, 21077, 18303, '\n",
      " '20373')\n"
     ]
    }
   ],
   "source": [
    "pprint(', '.join(str(x) for x in dat['obsid'][dat['hand_edit']]))"
   ]
  },
  {
   "cell_type": "code",
   "execution_count": 146,
   "metadata": {},
   "outputs": [
    {
     "data": {
      "image/png": "[encoded data removed]",
      "text/plain": [
       "<matplotlib.figure.Figure at 0x1b543b780>"
      ]
     },
     "metadata": {},
     "output_type": "display_data"
    }
   ],
   "source": [
    "he = dat['acq_hand_edit']\n",
    "def plot_sausage_vs_proseco(xylim, show_obsids=False):\n",
    "    plt.plot(dat['sausage_P2'][~he], dat['proseco_P2'][~he], '.')\n",
    "    plt.plot(dat['sausage_P2'][he], dat['proseco_P2'][he], '.')\n",
    "    plt.plot([0, 10], [0, 10], '--r')\n",
    "    plt.xlabel('SAUSAGE P2')\n",
    "    plt.ylabel('Proseco P2')\n",
    "    plt.xlim(None, xylim)\n",
    "    plt.ylim(None, xylim)\n",
    "    plt.grid();\n",
    "    if show_obsids:\n",
    "        bad = (dat['proseco_P2'] - dat['sausage_P2'] < -0.5) & (dat['sausage_P2'] < xylim)\n",
    "        bad |= (dat['acq_thumb'] == 0)\n",
    "        for obs in dat[bad]:\n",
    "            plt.text(x=obs['sausage_P2'], y=obs['proseco_P2'], s=str(obs['obsid']))\n",
    "    plt.title('Proseco vs. SAUSAGE acq metric P2 (bigger is better)')\n",
    "\n",
    "plt.figure(figsize=(12,5))\n",
    "plt.subplot(1, 2, 1)\n",
    "plot_sausage_vs_proseco(10)\n",
    "plt.subplot(1, 2, 2)\n",
    "plot_sausage_vs_proseco(5, show_obsids=True)\n"
   ]
  },
  {
   "cell_type": "markdown",
   "metadata": {},
   "source": [
    "In the right plot, the 5 orange marked obsids show cases of relatively poor catalogs where proseco\n",
    "chose something worse than the flight catalog.  These were all hand-edits.  These are actually\n",
    "just two targets however:\n",
    "\n",
    "- 21068, 20612, 21069: proseco did not choose a star with ASPQ1 with a close (7.5 arcsec) spoiler\n",
    "- 21074, 20532: proseco did not choose a star with a bright nearby hot pixel (6400 e-/sec)\n",
    "\n",
    "The other marked cases have a thumbs down for acq from proseco.\n",
    "\n",
    "- 20757 - worse case, details below.\n",
    "- 20463 - proseco does not choose B-V=0.7 stars at all.  Consider changing this as last-ditch option?\n",
    "- 19409 - star 189400544 mag changed from 9.9 to 10.4 in AGASC 1.7, not used in proseco.  Actual was 10.4!\n",
    "\n",
    "Details below"
   ]
  },
  {
   "cell_type": "markdown",
   "metadata": {},
   "source": [
    "## Thumbs-down"
   ]
  },
  {
   "cell_type": "code",
   "execution_count": 84,
   "metadata": {
    "scrolled": true
   },
   "outputs": [
    {
     "data": {
      "text/html": [
       "<i>Table length=6</i>\n",
       "<table id=\"table6495153848\" class=\"table-striped table-bordered table-condensed\">\n",
       "<thead><tr><th>obsid</th><th>acq_thumb</th><th>fid_thumb</th><th>gui_thumb</th><th>hand_edit</th><th>thumbs_P2</th><th>proseco_P2</th><th>sausage_P2</th><th>t_acq</th><th>t_fid</th><th>t_guide</th><th>t_merge</th><th>t_opt</th><th>t_total</th></tr></thead>\n",
       "<thead><tr><th>int64</th><th>int64</th><th>int64</th><th>int64</th><th>bool</th><th>float64</th><th>float64</th><th>float64</th><th>float64</th><th>float64</th><th>float64</th><th>float64</th><th>float64</th><th>float64</th></tr></thead>\n",
       "<tr><td>19409</td><td>0</td><td>1</td><td>1</td><td>False</td><td>2.05</td><td>2.72</td><td>1.43</td><td>0.7693</td><td>0.0146</td><td>0.1734</td><td>0.0343</td><td>0.0039</td><td>0.9955</td></tr>\n",
       "<tr><td>20757</td><td>0</td><td>1</td><td>1</td><td>False</td><td>1.53</td><td>1.60</td><td>1.43</td><td>0.5592</td><td>0.0139</td><td>0.2336</td><td>0.0313</td><td>0.0029</td><td>0.8409</td></tr>\n",
       "<tr><td>20463</td><td>0</td><td>1</td><td>1</td><td>False</td><td>1.60</td><td>2.08</td><td>1.72</td><td>0.5563</td><td>0.0182</td><td>0.251</td><td>0.0398</td><td>0.004</td><td>0.8693</td></tr>\n",
       "<tr><td>21068</td><td>1</td><td>1</td><td>0</td><td>True</td><td>2.37</td><td>2.37</td><td>3.72</td><td>0.4278</td><td>0.0146</td><td>0.2418</td><td>0.0362</td><td>0.0037</td><td>0.7241</td></tr>\n",
       "<tr><td>20612</td><td>1</td><td>1</td><td>0</td><td>True</td><td>3.00</td><td>3.00</td><td>4.33</td><td>0.4252</td><td>0.0139</td><td>0.2274</td><td>0.034</td><td>0.003</td><td>0.7035</td></tr>\n",
       "<tr><td>21069</td><td>1</td><td>1</td><td>0</td><td>True</td><td>3.53</td><td>3.55</td><td>4.84</td><td>0.3978</td><td>0.0138</td><td>0.2388</td><td>0.0392</td><td>0.0035</td><td>0.6931</td></tr>\n",
       "</table>"
      ],
      "text/plain": [
       "<Table length=6>\n",
       "obsid acq_thumb fid_thumb gui_thumb ... t_guide t_merge  t_opt  t_total\n",
       "int64   int64     int64     int64   ... float64 float64 float64 float64\n",
       "----- --------- --------- --------- ... ------- ------- ------- -------\n",
       "19409         0         1         1 ...  0.1734  0.0343  0.0039  0.9955\n",
       "20757         0         1         1 ...  0.2336  0.0313  0.0029  0.8409\n",
       "20463         0         1         1 ...   0.251  0.0398   0.004  0.8693\n",
       "21068         1         1         0 ...  0.2418  0.0362  0.0037  0.7241\n",
       "20612         1         1         0 ...  0.2274   0.034   0.003  0.7035\n",
       "21069         1         1         0 ...  0.2388  0.0392  0.0035  0.6931"
      ]
     },
     "execution_count": 84,
     "metadata": {},
     "output_type": "execute_result"
    }
   ],
   "source": [
    "dat[dat['acq_thumb'] * dat['fid_thumb'] * dat['gui_thumb'] == 0]"
   ]
  },
  {
   "cell_type": "markdown",
   "metadata": {},
   "source": [
    "Note that all 3 of the guide thumbs-down are the Dragonfly and would presumably be fixed with the hand-edit of 261490008."
   ]
  },
  {
   "cell_type": "markdown",
   "metadata": {},
   "source": [
    "## Worst cases: proseco_P2 < 2.5"
   ]
  },
  {
   "cell_type": "code",
   "execution_count": 85,
   "metadata": {},
   "outputs": [
    {
     "data": {
      "text/html": [
       "<i>Table length=4</i>\n",
       "<table id=\"table6496328840\" class=\"table-striped table-bordered table-condensed\">\n",
       "<thead><tr><th>obsid</th><th>acq_thumb</th><th>fid_thumb</th><th>gui_thumb</th><th>hand_edit</th><th>thumbs_P2</th><th>proseco_P2</th><th>sausage_P2</th><th>t_acq</th><th>t_fid</th><th>t_guide</th><th>t_merge</th><th>t_opt</th><th>t_total</th></tr></thead>\n",
       "<thead><tr><th>int64</th><th>int64</th><th>int64</th><th>int64</th><th>bool</th><th>float64</th><th>float64</th><th>float64</th><th>float64</th><th>float64</th><th>float64</th><th>float64</th><th>float64</th><th>float64</th></tr></thead>\n",
       "<tr><td>20757</td><td>0</td><td>1</td><td>1</td><td>False</td><td>1.53</td><td>1.60</td><td>1.43</td><td>0.5592</td><td>0.0139</td><td>0.2336</td><td>0.0313</td><td>0.0029</td><td>0.8409</td></tr>\n",
       "<tr><td>20463</td><td>0</td><td>1</td><td>1</td><td>False</td><td>1.60</td><td>2.08</td><td>1.72</td><td>0.5563</td><td>0.0182</td><td>0.251</td><td>0.0398</td><td>0.004</td><td>0.8693</td></tr>\n",
       "<tr><td>20407</td><td>1</td><td>1</td><td>1</td><td>False</td><td>2.12</td><td>2.19</td><td>1.99</td><td>0.7769</td><td>0.0244</td><td>0.1807</td><td>0.037</td><td>0.0037</td><td>1.0227</td></tr>\n",
       "<tr><td>21068</td><td>1</td><td>1</td><td>0</td><td>True</td><td>2.37</td><td>2.37</td><td>3.72</td><td>0.4278</td><td>0.0146</td><td>0.2418</td><td>0.0362</td><td>0.0037</td><td>0.7241</td></tr>\n",
       "</table>"
      ],
      "text/plain": [
       "<Table length=4>\n",
       "obsid acq_thumb fid_thumb gui_thumb ... t_guide t_merge  t_opt  t_total\n",
       "int64   int64     int64     int64   ... float64 float64 float64 float64\n",
       "----- --------- --------- --------- ... ------- ------- ------- -------\n",
       "20757         0         1         1 ...  0.2336  0.0313  0.0029  0.8409\n",
       "20463         0         1         1 ...   0.251  0.0398   0.004  0.8693\n",
       "20407         1         1         1 ...  0.1807   0.037  0.0037  1.0227\n",
       "21068         1         1         0 ...  0.2418  0.0362  0.0037  0.7241"
      ]
     },
     "execution_count": 85,
     "metadata": {},
     "output_type": "execute_result"
    }
   ],
   "source": [
    "dat[dat['proseco_P2'] < 2.5]"
   ]
  },
  {
   "cell_type": "code",
   "execution_count": 94,
   "metadata": {},
   "outputs": [
    {
     "data": {
      "text/html": [
       "<i>Table length=3</i>\n",
       "<table id=\"table7167805200\" class=\"table-striped table-bordered table-condensed\">\n",
       "<thead><tr><th>obsid</th><th>acq_thumb</th><th>fid_thumb</th><th>gui_thumb</th><th>hand_edit</th><th>thumbs_P2</th><th>proseco_P2</th><th>sausage_P2</th><th>t_acq</th><th>t_fid</th><th>t_guide</th><th>t_merge</th><th>t_opt</th><th>t_total</th></tr></thead>\n",
       "<thead><tr><th>int64</th><th>int64</th><th>int64</th><th>int64</th><th>bool</th><th>float64</th><th>float64</th><th>float64</th><th>float64</th><th>float64</th><th>float64</th><th>float64</th><th>float64</th><th>float64</th></tr></thead>\n",
       "<tr><td>19409</td><td>0</td><td>1</td><td>1</td><td>False</td><td>2.05</td><td>2.72</td><td>1.43</td><td>0.7693</td><td>0.0146</td><td>0.1734</td><td>0.0343</td><td>0.0039</td><td>0.9955</td></tr>\n",
       "<tr><td>20757</td><td>0</td><td>1</td><td>1</td><td>False</td><td>1.53</td><td>1.60</td><td>1.43</td><td>0.5592</td><td>0.0139</td><td>0.2336</td><td>0.0313</td><td>0.0029</td><td>0.8409</td></tr>\n",
       "<tr><td>20463</td><td>0</td><td>1</td><td>1</td><td>False</td><td>1.60</td><td>2.08</td><td>1.72</td><td>0.5563</td><td>0.0182</td><td>0.251</td><td>0.0398</td><td>0.004</td><td>0.8693</td></tr>\n",
       "</table>"
      ],
      "text/plain": [
       "<Table length=3>\n",
       "obsid acq_thumb fid_thumb gui_thumb ... t_guide t_merge  t_opt  t_total\n",
       "int64   int64     int64     int64   ... float64 float64 float64 float64\n",
       "----- --------- --------- --------- ... ------- ------- ------- -------\n",
       "19409         0         1         1 ...  0.1734  0.0343  0.0039  0.9955\n",
       "20757         0         1         1 ...  0.2336  0.0313  0.0029  0.8409\n",
       "20463         0         1         1 ...   0.251  0.0398   0.004  0.8693"
      ]
     },
     "execution_count": 94,
     "metadata": {},
     "output_type": "execute_result"
    }
   ],
   "source": [
    "dat[dat['thumbs_P2'] < 2.1]"
   ]
  },
  {
   "cell_type": "markdown",
   "metadata": {},
   "source": [
    "## Worst case P2: obsid 20757(J1254+2104)\n",
    "\n",
    "See:\n",
    "- http://kadi.cfa.harvard.edu/mica/?obsid_or_date=20757\n",
    "- https://icxc.harvard.edu/mp/mplogs/2018/FEB0518/oflsa/starcheck.html#obsid20757\n",
    "\n",
    "The flight catalog had `sausage_P2=2.017` using the existing probability model, but using\n",
    "the current one would have had `sausage_P2=1.43`.  So in the proseco era this would be\n",
    "scheduled as a creep-up.  \n",
    "\n",
    "At the end there were 4 + 1 stars ID'd.  The \"+ 1\" refers\n",
    "to a 10.875 mag (observed) \"star\" acquired near the position of a 10.8 mag (catalog) star.\n",
    "I don't really believe that was usuable.\n",
    "\n",
    "What is notable is that star id=190717208 is a 9.8 mag star that was scheduled with\n",
    "a 160 arcsec box, and it was NOT acquired.  Proseco has found there is a very bright\n",
    "hot pixel cluster around 120 arcsec away and picked a 100 arcsec box.  Hot pixel\n",
    "avoidance in acquisition, when done carefully, is a good thing."
   ]
  },
  {
   "cell_type": "code",
   "execution_count": 19,
   "metadata": {
    "collapsed": true
   },
   "outputs": [],
   "source": [
    "aca20757 = get_info(20757, include_aca=True)['aca']"
   ]
  },
  {
   "cell_type": "code",
   "execution_count": 20,
   "metadata": {},
   "outputs": [
    {
     "data": {
      "text/html": [
       "<i>AcqTable length=6</i>\n",
       "<table id=\"table11886709448\" class=\"table-striped table-bordered table-condensed\">\n",
       "<thead><tr><th>id</th><th>ra</th><th>dec</th><th>yang</th><th>zang</th><th>row</th><th>col</th><th>mag</th><th>mag_err</th><th>color</th><th>idx</th><th>type</th><th>halfw</th><th>p_acq</th><th>slot</th><th>maxmag</th><th>dim</th><th>sz</th><th>res</th></tr></thead>\n",
       "<thead><tr><th>int32</th><th>float64</th><th>float64</th><th>float64</th><th>float64</th><th>float64</th><th>float64</th><th>float32</th><th>float64</th><th>float32</th><th>int64</th><th>str3</th><th>int64</th><th>float64</th><th>int64</th><th>float32</th><th>int64</th><th>str3</th><th>int64</th></tr></thead>\n",
       "<tr><td>190720144</td><td>193.984623</td><td>20.745199</td><td>-1082.83</td><td>-973.20</td><td>222.97</td><td>-190.68</td><td>9.07</td><td>0.08</td><td>0.42</td><td>0</td><td>BOT</td><td>160</td><td>0.960</td><td>3</td><td>10.57</td><td>20</td><td>6x6</td><td>1</td></tr>\n",
       "<tr><td>190714328</td><td>193.637841</td><td>20.922333</td><td>-514.79</td><td>229.04</td><td>109.29</td><td>50.62</td><td>9.74</td><td>0.20</td><td>0.97</td><td>1</td><td>BOT</td><td>160</td><td>0.899</td><td>4</td><td>11.24</td><td>20</td><td>6x6</td><td>1</td></tr>\n",
       "<tr><td>190717208</td><td>193.306153</td><td>20.726757</td><td>-1280.96</td><td>1303.46</td><td>263.88</td><td>266.28</td><td>9.83</td><td>0.23</td><td>1.27</td><td>2</td><td>BOT</td><td>100</td><td>0.933</td><td>5</td><td>11.33</td><td>20</td><td>6x6</td><td>1</td></tr>\n",
       "<tr><td>190718688</td><td>194.364090</td><td>20.434161</td><td>-2122.57</td><td>-2318.01</td><td>434.22</td><td>-464.40</td><td>10.19</td><td>0.18</td><td>1.13</td><td>3</td><td>BOT</td><td>160</td><td>0.534</td><td>6</td><td>11.69</td><td>20</td><td>6x6</td><td>1</td></tr>\n",
       "<tr><td>190719368</td><td>194.200275</td><td>21.501701</td><td>1679.46</td><td>-1531.27</td><td>-332.60</td><td>-302.74</td><td>10.20</td><td>0.16</td><td>0.52</td><td>4</td><td>BOT</td><td>80</td><td>0.727</td><td>7</td><td>11.70</td><td>20</td><td>6x6</td><td>1</td></tr>\n",
       "<tr><td>190718976</td><td>194.040275</td><td>20.689415</td><td>-1272.06</td><td>-1172.31</td><td>261.07</td><td>-230.89</td><td>10.71</td><td>0.22</td><td>0.36</td><td>5</td><td>ACQ</td><td>80</td><td>0.061</td><td>0</td><td>12.21</td><td>20</td><td>6x6</td><td>1</td></tr>\n",
       "</table>"
      ],
      "text/plain": [
       "<AcqTable length=6>\n",
       "    id        ra        dec      yang     zang   ...  maxmag  dim   sz   res \n",
       "  int32    float64    float64  float64  float64  ... float32 int64 str3 int64\n",
       "--------- ---------- --------- -------- -------- ... ------- ----- ---- -----\n",
       "190720144 193.984623 20.745199 -1082.83  -973.20 ...   10.57    20  6x6     1\n",
       "190714328 193.637841 20.922333  -514.79   229.04 ...   11.24    20  6x6     1\n",
       "190717208 193.306153 20.726757 -1280.96  1303.46 ...   11.33    20  6x6     1\n",
       "190718688 194.364090 20.434161 -2122.57 -2318.01 ...   11.69    20  6x6     1\n",
       "190719368 194.200275 21.501701  1679.46 -1531.27 ...   11.70    20  6x6     1\n",
       "190718976 194.040275 20.689415 -1272.06 -1172.31 ...   12.21    20  6x6     1"
      ]
     },
     "execution_count": 20,
     "metadata": {},
     "output_type": "execute_result"
    }
   ],
   "source": [
    "aca20757.acqs"
   ]
  },
  {
   "cell_type": "code",
   "execution_count": 21,
   "metadata": {},
   "outputs": [
    {
     "data": {
      "text/plain": [
       "0.063033676170370853"
      ]
     },
     "execution_count": 21,
     "metadata": {},
     "output_type": "execute_result"
    }
   ],
   "source": [
    "acq = aca20757.acqs.get_id(190718976)\n",
    "acq['probs'].p_acq_model(80)"
   ]
  },
  {
   "cell_type": "code",
   "execution_count": null,
   "metadata": {
    "collapsed": true
   },
   "outputs": [],
   "source": [
    "aca20757.acqs.to_pickle(rootdir=data_dir)\n",
    "make_report(20757, rootdir=data_dir);"
   ]
  },
  {
   "cell_type": "code",
   "execution_count": 23,
   "metadata": {},
   "outputs": [
    {
     "data": {
      "text/html": [
       "<i>Table length=11</i>\n",
       "<table id=\"table11886708160\" class=\"table-striped table-bordered table-condensed\">\n",
       "<thead><tr><th>sc_id</th><th>obsid</th><th>obs_idx</th><th>mp_starcat_time</th><th>idx</th><th>slot</th><th>id</th><th>idnote</th><th>type</th><th>sz</th><th>p_acq</th><th>minmag</th><th>mag</th><th>maxmag</th><th>yang</th><th>zang</th><th>dim</th><th>res</th><th>halfw</th><th>pass</th><th>notes</th></tr></thead>\n",
       "<thead><tr><th>int64</th><th>int64</th><th>int64</th><th>str21</th><th>int64</th><th>int64</th><th>int64</th><th>object</th><th>str3</th><th>str3</th><th>object</th><th>object</th><th>float64</th><th>float64</th><th>int64</th><th>int64</th><th>int64</th><th>int64</th><th>int64</th><th>str4</th><th>str2</th></tr></thead>\n",
       "<tr><td>2114</td><td>20757</td><td>7</td><td>2018:037:17:36:01.037</td><td>1</td><td>0</td><td>2</td><td>None</td><td>FID</td><td>8x8</td><td>None</td><td>None</td><td>7.0</td><td>8.0</td><td>-773</td><td>-1741</td><td>1</td><td>1</td><td>25</td><td>--</td><td>--</td></tr>\n",
       "<tr><td>2114</td><td>20757</td><td>7</td><td>2018:037:17:36:01.037</td><td>2</td><td>1</td><td>4</td><td>None</td><td>FID</td><td>8x8</td><td>None</td><td>None</td><td>7.0</td><td>8.0</td><td>2140</td><td>166</td><td>1</td><td>1</td><td>25</td><td>--</td><td>--</td></tr>\n",
       "<tr><td>2114</td><td>20757</td><td>7</td><td>2018:037:17:36:01.037</td><td>3</td><td>2</td><td>5</td><td>None</td><td>FID</td><td>8x8</td><td>None</td><td>None</td><td>7.0</td><td>8.0</td><td>-1826</td><td>160</td><td>1</td><td>1</td><td>25</td><td>--</td><td>--</td></tr>\n",
       "<tr><td>2114</td><td>20757</td><td>7</td><td>2018:037:17:36:01.037</td><td>4</td><td>3</td><td>190714328</td><td>None</td><td>BOT</td><td>6x6</td><td>0.89</td><td>None</td><td>9.788</td><td>11.297</td><td>-514</td><td>229</td><td>28</td><td>1</td><td>160</td><td>a2g2</td><td>--</td></tr>\n",
       "<tr><td>2114</td><td>20757</td><td>7</td><td>2018:037:17:36:01.037</td><td>5</td><td>4</td><td>190717208</td><td>None</td><td>BOT</td><td>6x6</td><td>0.878</td><td>None</td><td>9.823</td><td>11.328</td><td>-1280</td><td>1303</td><td>28</td><td>1</td><td>160</td><td>a4g3</td><td>--</td></tr>\n",
       "<tr><td>2114</td><td>20757</td><td>7</td><td>2018:037:17:36:01.037</td><td>6</td><td>5</td><td>190718688</td><td>None</td><td>BOT</td><td>6x6</td><td>0.8</td><td>None</td><td>10.188</td><td>11.688</td><td>-2122</td><td>-2317</td><td>18</td><td>1</td><td>110</td><td>a3g3</td><td>--</td></tr>\n",
       "<tr><td>2114</td><td>20757</td><td>7</td><td>2018:037:17:36:01.037</td><td>7</td><td>6</td><td>190719368</td><td>None</td><td>BOT</td><td>6x6</td><td>0.771</td><td>None</td><td>10.196</td><td>11.703</td><td>1679</td><td>-1531</td><td>20</td><td>1</td><td>120</td><td>a3g3</td><td>--</td></tr>\n",
       "<tr><td>2114</td><td>20757</td><td>7</td><td>2018:037:17:36:01.037</td><td>8</td><td>7</td><td>190720144</td><td>None</td><td>BOT</td><td>6x6</td><td>0.98</td><td>None</td><td>9.073</td><td>10.578</td><td>-1082</td><td>-973</td><td>28</td><td>1</td><td>160</td><td>a2</td><td>--</td></tr>\n",
       "<tr><td>2114</td><td>20757</td><td>7</td><td>2018:037:17:36:01.037</td><td>9</td><td>0</td><td>190716896</td><td>None</td><td>ACQ</td><td>6x6</td><td>0.143</td><td>None</td><td>10.675</td><td>12.172</td><td>-265</td><td>1192</td><td>20</td><td>1</td><td>120</td><td>a5</td><td>c</td></tr>\n",
       "<tr><td>2114</td><td>20757</td><td>7</td><td>2018:037:17:36:01.037</td><td>10</td><td>1</td><td>190718976</td><td>None</td><td>ACQ</td><td>6x6</td><td>0.225</td><td>None</td><td>10.79</td><td>12.297</td><td>-1271</td><td>-1172</td><td>20</td><td>1</td><td>120</td><td>a5</td><td>--</td></tr>\n",
       "<tr><td>2114</td><td>20757</td><td>7</td><td>2018:037:17:36:01.037</td><td>11</td><td>2</td><td>190716336</td><td>None</td><td>ACQ</td><td>6x6</td><td>0.166</td><td>None</td><td>10.845</td><td>12.344</td><td>-1844</td><td>2231</td><td>20</td><td>1</td><td>120</td><td>a5</td><td>--</td></tr>\n",
       "</table>"
      ],
      "text/plain": [
       "<Table length=11>\n",
       "sc_id obsid obs_idx    mp_starcat_time     idx  ...  dim   res  halfw pass notes\n",
       "int64 int64  int64          str21         int64 ... int64 int64 int64 str4  str2\n",
       "----- ----- ------- --------------------- ----- ... ----- ----- ----- ---- -----\n",
       " 2114 20757       7 2018:037:17:36:01.037     1 ...     1     1    25   --    --\n",
       " 2114 20757       7 2018:037:17:36:01.037     2 ...     1     1    25   --    --\n",
       " 2114 20757       7 2018:037:17:36:01.037     3 ...     1     1    25   --    --\n",
       " 2114 20757       7 2018:037:17:36:01.037     4 ...    28     1   160 a2g2    --\n",
       " 2114 20757       7 2018:037:17:36:01.037     5 ...    28     1   160 a4g3    --\n",
       " 2114 20757       7 2018:037:17:36:01.037     6 ...    18     1   110 a3g3    --\n",
       " 2114 20757       7 2018:037:17:36:01.037     7 ...    20     1   120 a3g3    --\n",
       " 2114 20757       7 2018:037:17:36:01.037     8 ...    28     1   160   a2    --\n",
       " 2114 20757       7 2018:037:17:36:01.037     9 ...    20     1   120   a5     c\n",
       " 2114 20757       7 2018:037:17:36:01.037    10 ...    20     1   120   a5    --\n",
       " 2114 20757       7 2018:037:17:36:01.037    11 ...    20     1   120   a5    --"
      ]
     },
     "execution_count": 23,
     "metadata": {},
     "output_type": "execute_result"
    }
   ],
   "source": [
    "aca20757.starcheck_catalog['cat']"
   ]
  },
  {
   "cell_type": "code",
   "execution_count": 24,
   "metadata": {
    "collapsed": true
   },
   "outputs": [],
   "source": [
    "aca20757_cu = get_aca_catalog(20757, man_angle=1.0)"
   ]
  },
  {
   "cell_type": "code",
   "execution_count": 25,
   "metadata": {
    "collapsed": true
   },
   "outputs": [],
   "source": [
    "include_ids = [acq['id'] for acq in aca20757.starcheck_catalog['cat'] if acq['p_acq']]\n",
    "include_halfws = [acq['halfw'] for acq in aca20757.starcheck_catalog['cat'] if acq['p_acq']]"
   ]
  },
  {
   "cell_type": "code",
   "execution_count": 26,
   "metadata": {
    "collapsed": true
   },
   "outputs": [],
   "source": [
    "include_halfws[2] = 120"
   ]
  },
  {
   "cell_type": "code",
   "execution_count": 27,
   "metadata": {},
   "outputs": [
    {
     "data": {
      "text/plain": [
       "-2.7228993689630867"
      ]
     },
     "execution_count": 27,
     "metadata": {},
     "output_type": "execute_result"
    }
   ],
   "source": [
    "aca20757_cu.acqs.get_log_p_2_or_fewer()"
   ]
  },
  {
   "cell_type": "code",
   "execution_count": 28,
   "metadata": {
    "collapsed": true
   },
   "outputs": [],
   "source": [
    "aca20757_flt = get_aca_catalog(20757, include_ids=include_ids, include_halfws=include_halfws)"
   ]
  },
  {
   "cell_type": "code",
   "execution_count": 29,
   "metadata": {},
   "outputs": [
    {
     "data": {
      "text/plain": [
       "-0.72168097109273321"
      ]
     },
     "execution_count": 29,
     "metadata": {},
     "output_type": "execute_result"
    }
   ],
   "source": [
    "aca20757_flt.acqs.get_log_p_2_or_fewer()"
   ]
  },
  {
   "cell_type": "markdown",
   "metadata": {},
   "source": [
    "## Acq thumbs down: obsid 19409"
   ]
  },
  {
   "cell_type": "code",
   "execution_count": 148,
   "metadata": {
    "collapsed": true
   },
   "outputs": [],
   "source": [
    "obs19409 = get_info(19409, include_aca=True)\n",
    "aca19409 = obs19409['aca']"
   ]
  },
  {
   "cell_type": "code",
   "execution_count": null,
   "metadata": {},
   "outputs": [],
   "source": [
    "# aca19409.acqs.to_pickle(rootdir=data_dir)\n",
    "# make_report(19409, rootdir=data_dir);"
   ]
  },
  {
   "cell_type": "code",
   "execution_count": 150,
   "metadata": {},
   "outputs": [
    {
     "data": {
      "image/png": "[encoded data removed]",
      "text/plain": [
       "<matplotlib.figure.Figure at 0x1b5717860>"
      ]
     },
     "metadata": {},
     "output_type": "display_data"
    }
   ],
   "source": [
    "aca19409.acqs.plot()"
   ]
  },
  {
   "cell_type": "code",
   "execution_count": 160,
   "metadata": {},
   "outputs": [
    {
     "data": {
      "text/html": [
       "<i>AcqTable length=8</i>\n",
       "<table id=\"table7330649648\" class=\"table-striped table-bordered table-condensed\">\n",
       "<thead><tr><th>id</th><th>halfw</th><th>mag</th><th>p_acq</th></tr></thead>\n",
       "<thead><tr><th>int32</th><th>int64</th><th>float32</th><th>float64</th></tr></thead>\n",
       "<tr><td>189417400</td><td>160</td><td>7.67</td><td>0.985</td></tr>\n",
       "<tr><td>189407848</td><td>160</td><td>9.04</td><td>0.674</td></tr>\n",
       "<tr><td>189412720</td><td>160</td><td>9.58</td><td>0.919</td></tr>\n",
       "<tr><td>189409160</td><td>160</td><td>9.84</td><td>0.876</td></tr>\n",
       "<tr><td>189406216</td><td>120</td><td>10.27</td><td>0.552</td></tr>\n",
       "<tr><td>189404000</td><td>60</td><td>10.38</td><td>0.512</td></tr>\n",
       "<tr><td>189403768</td><td>80</td><td>10.44</td><td>0.392</td></tr>\n",
       "<tr><td>189412392</td><td>60</td><td>10.55</td><td>0.260</td></tr>\n",
       "</table>"
      ],
      "text/plain": [
       "<AcqTable length=8>\n",
       "    id    halfw   mag    p_acq \n",
       "  int32   int64 float32 float64\n",
       "--------- ----- ------- -------\n",
       "189417400   160    7.67   0.985\n",
       "189407848   160    9.04   0.674\n",
       "189412720   160    9.58   0.919\n",
       "189409160   160    9.84   0.876\n",
       "189406216   120   10.27   0.552\n",
       "189404000    60   10.38   0.512\n",
       "189403768    80   10.44   0.392\n",
       "189412392    60   10.55   0.260"
      ]
     },
     "execution_count": 160,
     "metadata": {},
     "output_type": "execute_result"
    }
   ],
   "source": [
    "p_cat = aca19409.acqs['id', 'halfw', 'mag', 'p_acq']\n",
    "p_cat"
   ]
  },
  {
   "cell_type": "code",
   "execution_count": 159,
   "metadata": {
    "scrolled": true
   },
   "outputs": [
    {
     "data": {
      "text/html": [
       "<i>Table length=8</i>\n",
       "<table id=\"table7328825584\" class=\"table-striped table-bordered table-condensed\">\n",
       "<thead><tr><th>id</th><th>halfw</th><th>mag</th><th>p_acq</th></tr></thead>\n",
       "<thead><tr><th>int64</th><th>int64</th><th>float64</th><th>object</th></tr></thead>\n",
       "<tr><td>189400544</td><td>120</td><td>9.881</td><td>0.72</td></tr>\n",
       "<tr><td>189409160</td><td>160</td><td>9.836</td><td>0.875</td></tr>\n",
       "<tr><td>189412720</td><td>160</td><td>9.61</td><td>0.933</td></tr>\n",
       "<tr><td>189417400</td><td>180</td><td>7.707</td><td>0.985</td></tr>\n",
       "<tr><td>189406216</td><td>120</td><td>10.261</td><td>0.729</td></tr>\n",
       "<tr><td>189404000</td><td>120</td><td>10.401</td><td>0.613</td></tr>\n",
       "<tr><td>189403768</td><td>120</td><td>10.467</td><td>0.55</td></tr>\n",
       "<tr><td>189412392</td><td>120</td><td>10.572</td><td>0.444</td></tr>\n",
       "</table>"
      ],
      "text/plain": [
       "<Table length=8>\n",
       "    id    halfw   mag   p_acq \n",
       "  int64   int64 float64 object\n",
       "--------- ----- ------- ------\n",
       "189400544   120   9.881   0.72\n",
       "189409160   160   9.836  0.875\n",
       "189412720   160    9.61  0.933\n",
       "189417400   180   7.707  0.985\n",
       "189406216   120  10.261  0.729\n",
       "189404000   120  10.401  0.613\n",
       "189403768   120  10.467   0.55\n",
       "189412392   120  10.572  0.444"
      ]
     },
     "execution_count": 159,
     "metadata": {},
     "output_type": "execute_result"
    }
   ],
   "source": [
    "ok = aca19409.starcheck_catalog['cat']['halfw'] > 25\n",
    "s_cat = aca19409.starcheck_catalog['cat'][ok]['id', 'halfw', 'mag', 'p_acq']\n",
    "s_cat"
   ]
  },
  {
   "cell_type": "code",
   "execution_count": 161,
   "metadata": {},
   "outputs": [
    {
     "data": {
      "text/plain": [
       "{189400544}"
      ]
     },
     "execution_count": 161,
     "metadata": {},
     "output_type": "execute_result"
    }
   ],
   "source": [
    "set(s_cat['id']) - set(p_cat['id'])"
   ]
  },
  {
   "cell_type": "markdown",
   "metadata": {},
   "source": [
    "Star 189400544 mag changed from 9.9 to 10.4 in AGASC 1.7, not used in proseco.  Actual was 10.4!"
   ]
  },
  {
   "cell_type": "markdown",
   "metadata": {},
   "source": [
    "## Proseco catalog worse: Obsids 21068 (and 21069, 20612) (Dragonfly 44)\n",
    "\n",
    "The flight catalog used star 261490008 which has MAG_ACA=8.7 and ASPQ1=24 (due to a 10.5 mag star 7.5 arcsec away).  The star was acquired and ID'd by the OBC.  ASPQ1=24 => expected centroid offset of 1.2 arcsec.\n",
    "\n",
    "Consider a dragonfly-exception to the 3 mag, 30 arcsec keepout rule for acq candidates.  If within 8 arcsec and ASPQ1 < 40 (2.0 arcsec) then allow.  Basically, for acquisition we don't worry about very close spoilers."
   ]
  },
  {
   "cell_type": "code",
   "execution_count": null,
   "metadata": {
    "collapsed": true,
    "scrolled": true
   },
   "outputs": [],
   "source": [
    "aca21068 = get_aca_catalog(21068)\n",
    "aca21068.acqs.to_pickle(rootdir=data_dir)\n",
    "make_report(21068, rootdir=data_dir);"
   ]
  },
  {
   "cell_type": "code",
   "execution_count": 15,
   "metadata": {
    "collapsed": true
   },
   "outputs": [],
   "source": [
    "star = agasc.get_star(261490008)"
   ]
  },
  {
   "cell_type": "code",
   "execution_count": 16,
   "metadata": {
    "scrolled": true
   },
   "outputs": [
    {
     "data": {
      "text/html": [
       "<i>Table length=2</i>\n",
       "<table id=\"table11875360840\" class=\"table-striped table-bordered table-condensed\">\n",
       "<thead><tr><th>AGASC_ID</th><th>RA</th><th>DEC</th><th>POS_ERR</th><th>POS_CATID</th><th>EPOCH</th><th>PM_RA</th><th>PM_DEC</th><th>PM_CATID</th><th>PLX</th><th>PLX_ERR</th><th>PLX_CATID</th><th>MAG_ACA</th><th>MAG_ACA_ERR</th><th>CLASS</th><th>MAG</th><th>MAG_ERR</th><th>MAG_BAND</th><th>MAG_CATID</th><th>COLOR1</th><th>COLOR1_ERR</th><th>C1_CATID</th><th>COLOR2</th><th>COLOR2_ERR</th><th>C2_CATID</th><th>RSV1</th><th>RSV2</th><th>RSV3</th><th>VAR</th><th>VAR_CATID</th><th>ASPQ1</th><th>ASPQ2</th><th>ASPQ3</th><th>ACQQ1</th><th>ACQQ2</th><th>ACQQ3</th><th>ACQQ4</th><th>ACQQ5</th><th>ACQQ6</th><th>XREF_ID1</th><th>XREF_ID2</th><th>XREF_ID3</th><th>XREF_ID4</th><th>XREF_ID5</th><th>RSV4</th><th>RSV5</th><th>RSV6</th><th>RA_PMCORR</th><th>DEC_PMCORR</th></tr></thead>\n",
       "<thead><tr><th>int32</th><th>float64</th><th>float64</th><th>int16</th><th>uint8</th><th>float32</th><th>int16</th><th>int16</th><th>uint8</th><th>int16</th><th>int16</th><th>uint8</th><th>float32</th><th>int16</th><th>int16</th><th>float32</th><th>int16</th><th>int16</th><th>uint8</th><th>float32</th><th>int16</th><th>uint8</th><th>float32</th><th>int16</th><th>uint8</th><th>float32</th><th>int16</th><th>uint8</th><th>int16</th><th>uint8</th><th>int16</th><th>int16</th><th>int16</th><th>int16</th><th>int16</th><th>int16</th><th>int16</th><th>int16</th><th>int16</th><th>int32</th><th>int32</th><th>int32</th><th>int32</th><th>int32</th><th>int16</th><th>int16</th><th>int16</th><th>float64</th><th>float64</th></tr></thead>\n",
       "<tr><td>261490008</td><td>194.67948051</td><td>27.11949358</td><td>16</td><td>5</td><td>2000.0</td><td>-9999</td><td>-9999</td><td>0</td><td>11</td><td>12</td><td>3</td><td>8.73339</td><td>6</td><td>0</td><td>8.944</td><td>2</td><td>4</td><td>5</td><td>0.93245</td><td>3</td><td>5</td><td>1.097</td><td>3</td><td>5</td><td>-9999.0</td><td>-9999</td><td>0</td><td>-9999</td><td>0</td><td>24</td><td>0</td><td>74</td><td>184</td><td>184</td><td>184</td><td>184</td><td>184</td><td>160</td><td>171</td><td>102291</td><td>171</td><td>1</td><td>-9999</td><td>-9999</td><td>-9999</td><td>-9999</td><td>194.67948051</td><td>27.11949358</td></tr>\n",
       "<tr><td>261509480</td><td>194.68177597</td><td>27.1197260097</td><td>11</td><td>5</td><td>2000.0</td><td>-9999</td><td>5</td><td>5</td><td>-9999</td><td>-9999</td><td>0</td><td>10.5204</td><td>10</td><td>0</td><td>10.467</td><td>6</td><td>4</td><td>5</td><td>0.4692</td><td>8</td><td>5</td><td>0.552</td><td>9</td><td>5</td><td>-9999.0</td><td>-9999</td><td>0</td><td>-9999</td><td>0</td><td>120</td><td>0</td><td>74</td><td>-201</td><td>-201</td><td>-201</td><td>-201</td><td>-201</td><td>-201</td><td>-9999</td><td>-9999</td><td>2605</td><td>1</td><td>-9999</td><td>-9999</td><td>-9999</td><td>-9999</td><td>194.68177597</td><td>27.1197520448</td></tr>\n",
       "</table>"
      ],
      "text/plain": [
       "<Table length=2>\n",
       " AGASC_ID      RA           DEC      ...  RSV6  RA_PMCORR     DEC_PMCORR \n",
       "  int32     float64       float64    ... int16   float64       float64   \n",
       "--------- ------------ ------------- ... ----- ------------ -------------\n",
       "261490008 194.67948051   27.11949358 ... -9999 194.67948051   27.11949358\n",
       "261509480 194.68177597 27.1197260097 ... -9999 194.68177597 27.1197520448"
      ]
     },
     "execution_count": 16,
     "metadata": {},
     "output_type": "execute_result"
    }
   ],
   "source": [
    "ra, dec = star['RA_PMCORR'], star['DEC_PMCORR']\n",
    "stars = agasc.get_agasc_cone(ra, dec, radius=0.01)\n",
    "stars"
   ]
  },
  {
   "cell_type": "code",
   "execution_count": 17,
   "metadata": {},
   "outputs": [
    {
     "data": {
      "text/plain": [
       "7.4137446969717118"
      ]
     },
     "execution_count": 17,
     "metadata": {},
     "output_type": "execute_result"
    }
   ],
   "source": [
    "agasc.sphere_dist(stars[0]['RA_PMCORR'], stars[0]['DEC_PMCORR'], \n",
    "                  stars[1]['RA_PMCORR'], stars[1]['DEC_PMCORR']) * 3600"
   ]
  },
  {
   "cell_type": "code",
   "execution_count": 18,
   "metadata": {},
   "outputs": [
    {
     "data": {
      "text/html": [
       "<i>Table length=11</i>\n",
       "<table id=\"table11618575136\" class=\"table-striped table-bordered table-condensed\">\n",
       "<thead><tr><th>sc_id</th><th>obsid</th><th>obs_idx</th><th>mp_starcat_time</th><th>idx</th><th>slot</th><th>id</th><th>idnote</th><th>type</th><th>sz</th><th>p_acq</th><th>minmag</th><th>mag</th><th>maxmag</th><th>yang</th><th>zang</th><th>dim</th><th>res</th><th>halfw</th><th>pass</th><th>notes</th></tr></thead>\n",
       "<thead><tr><th>int64</th><th>int64</th><th>int64</th><th>str21</th><th>int64</th><th>int64</th><th>int64</th><th>object</th><th>str3</th><th>str3</th><th>object</th><th>object</th><th>float64</th><th>float64</th><th>int64</th><th>int64</th><th>int64</th><th>int64</th><th>int64</th><th>str4</th><th>str2</th></tr></thead>\n",
       "<tr><td>2127</td><td>21068</td><td>22</td><td>2018:096:06:14:17.430</td><td>1</td><td>0</td><td>2</td><td>None</td><td>FID</td><td>8x8</td><td>None</td><td>None</td><td>7.0</td><td>8.0</td><td>-774</td><td>-850</td><td>1</td><td>1</td><td>25</td><td>--</td><td>--</td></tr>\n",
       "<tr><td>2127</td><td>21068</td><td>22</td><td>2018:096:06:14:17.430</td><td>2</td><td>1</td><td>4</td><td>None</td><td>FID</td><td>8x8</td><td>None</td><td>None</td><td>7.0</td><td>8.0</td><td>2140</td><td>1055</td><td>1</td><td>1</td><td>25</td><td>--</td><td>--</td></tr>\n",
       "<tr><td>2127</td><td>21068</td><td>22</td><td>2018:096:06:14:17.430</td><td>3</td><td>2</td><td>5</td><td>None</td><td>FID</td><td>8x8</td><td>None</td><td>None</td><td>7.0</td><td>8.0</td><td>-1828</td><td>1053</td><td>1</td><td>1</td><td>25</td><td>--</td><td>--</td></tr>\n",
       "<tr><td>2127</td><td>21068</td><td>22</td><td>2018:096:06:14:17.430</td><td>4</td><td>3</td><td>261489768</td><td>None</td><td>BOT</td><td>6x6</td><td>0.985</td><td>None</td><td>9.623</td><td>11.125</td><td>-2071</td><td>-2184</td><td>8</td><td>1</td><td>60</td><td>a2g2</td><td>--</td></tr>\n",
       "<tr><td>2127</td><td>21068</td><td>22</td><td>2018:096:06:14:17.430</td><td>5</td><td>4</td><td>261490688</td><td>None</td><td>BOT</td><td>6x6</td><td>0.88</td><td>None</td><td>10.256</td><td>11.766</td><td>1946</td><td>-762</td><td>8</td><td>1</td><td>60</td><td>a4g4</td><td>--</td></tr>\n",
       "<tr><td>2127</td><td>21068</td><td>22</td><td>2018:096:06:14:17.430</td><td>6</td><td>5</td><td>261490800</td><td>None</td><td>BOT</td><td>6x6</td><td>0.925</td><td>None</td><td>10.13</td><td>11.641</td><td>730</td><td>-861</td><td>8</td><td>1</td><td>60</td><td>a3g3</td><td>--</td></tr>\n",
       "<tr><td>2127</td><td>21068</td><td>22</td><td>2018:096:06:14:17.430</td><td>7</td><td>6</td><td>261492456</td><td>None</td><td>BOT</td><td>6x6</td><td>0.985</td><td>None</td><td>9.698</td><td>11.203</td><td>-1504</td><td>2140</td><td>8</td><td>1</td><td>60</td><td>a2g2</td><td>--</td></tr>\n",
       "<tr><td>2127</td><td>21068</td><td>22</td><td>2018:096:06:14:17.430</td><td>8</td><td>7</td><td>261490008</td><td>None</td><td>BOT</td><td>6x6</td><td>0.985</td><td>None</td><td>8.733</td><td>10.234</td><td>1853</td><td>-488</td><td>8</td><td>1</td><td>60</td><td>aXgX</td><td>--</td></tr>\n",
       "<tr><td>2127</td><td>21068</td><td>22</td><td>2018:096:06:14:17.430</td><td>9</td><td>0</td><td>261495536</td><td>None</td><td>ACQ</td><td>6x6</td><td>0.813</td><td>None</td><td>10.38</td><td>11.891</td><td>2060</td><td>1327</td><td>8</td><td>1</td><td>60</td><td>a4</td><td>--</td></tr>\n",
       "<tr><td>2127</td><td>21068</td><td>22</td><td>2018:096:06:14:17.430</td><td>10</td><td>1</td><td>261498976</td><td>None</td><td>ACQ</td><td>6x6</td><td>0.802</td><td>None</td><td>10.396</td><td>11.906</td><td>-820</td><td>907</td><td>8</td><td>1</td><td>60</td><td>a4</td><td>--</td></tr>\n",
       "<tr><td>2127</td><td>21068</td><td>22</td><td>2018:096:06:14:17.430</td><td>11</td><td>2</td><td>261492200</td><td>None</td><td>ACQ</td><td>6x6</td><td>0.615</td><td>None</td><td>10.616</td><td>12.125</td><td>539</td><td>784</td><td>8</td><td>1</td><td>60</td><td>a5</td><td>--</td></tr>\n",
       "</table>"
      ],
      "text/plain": [
       "<Table length=11>\n",
       "sc_id obsid obs_idx    mp_starcat_time     idx  ...  dim   res  halfw pass notes\n",
       "int64 int64  int64          str21         int64 ... int64 int64 int64 str4  str2\n",
       "----- ----- ------- --------------------- ----- ... ----- ----- ----- ---- -----\n",
       " 2127 21068      22 2018:096:06:14:17.430     1 ...     1     1    25   --    --\n",
       " 2127 21068      22 2018:096:06:14:17.430     2 ...     1     1    25   --    --\n",
       " 2127 21068      22 2018:096:06:14:17.430     3 ...     1     1    25   --    --\n",
       " 2127 21068      22 2018:096:06:14:17.430     4 ...     8     1    60 a2g2    --\n",
       " 2127 21068      22 2018:096:06:14:17.430     5 ...     8     1    60 a4g4    --\n",
       " 2127 21068      22 2018:096:06:14:17.430     6 ...     8     1    60 a3g3    --\n",
       " 2127 21068      22 2018:096:06:14:17.430     7 ...     8     1    60 a2g2    --\n",
       " 2127 21068      22 2018:096:06:14:17.430     8 ...     8     1    60 aXgX    --\n",
       " 2127 21068      22 2018:096:06:14:17.430     9 ...     8     1    60   a4    --\n",
       " 2127 21068      22 2018:096:06:14:17.430    10 ...     8     1    60   a4    --\n",
       " 2127 21068      22 2018:096:06:14:17.430    11 ...     8     1    60   a5    --"
      ]
     },
     "execution_count": 18,
     "metadata": {},
     "output_type": "execute_result"
    }
   ],
   "source": [
    "aca21068.starcheck_catalog['cat']"
   ]
  },
  {
   "cell_type": "markdown",
   "metadata": {},
   "source": [
    "## Proseco catalog worse: Obsid 20532, 21074\n",
    "\n",
    "Star 1158030184 (mag=10.13) used in SAUSAGE but not in proseco because of a nearby 6400 e-/sec hot pixel.  Otherwise the catalogs are similar.\n",
    "\n",
    "This star was successfully acquired and ID'd.\n",
    "\n",
    "Not sure if this passes the \"TooNarrow\" ACA test, which is not presently implemented in proseco."
   ]
  },
  {
   "cell_type": "code",
   "execution_count": 106,
   "metadata": {
    "collapsed": true
   },
   "outputs": [],
   "source": [
    "obs20532 = get_info(20532, include_aca=True)\n",
    "aca20532 = obs20532['aca']"
   ]
  },
  {
   "cell_type": "code",
   "execution_count": 112,
   "metadata": {},
   "outputs": [
    {
     "data": {
      "text/html": [
       "<i>AcqTable length=8</i>\n",
       "<table id=\"table7145673392\" class=\"table-striped table-bordered table-condensed\">\n",
       "<thead><tr><th>id</th><th>halfw</th><th>mag</th><th>p_acq</th></tr></thead>\n",
       "<thead><tr><th>int32</th><th>int64</th><th>float32</th><th>float64</th></tr></thead>\n",
       "<tr><td>1157630512</td><td>160</td><td>10.11</td><td>0.770</td></tr>\n",
       "<tr><td>1157632712</td><td>100</td><td>8.88</td><td>0.946</td></tr>\n",
       "<tr><td>1157636648</td><td>160</td><td>9.25</td><td>0.957</td></tr>\n",
       "<tr><td>1158025144</td><td>160</td><td>10.52</td><td>0.293</td></tr>\n",
       "<tr><td>1158025304</td><td>80</td><td>10.45</td><td>0.608</td></tr>\n",
       "<tr><td>1158028072</td><td>140</td><td>10.40</td><td>0.516</td></tr>\n",
       "<tr><td>1158030320</td><td>160</td><td>9.63</td><td>0.919</td></tr>\n",
       "<tr><td>1158030960</td><td>160</td><td>8.27</td><td>0.985</td></tr>\n",
       "</table>"
      ],
      "text/plain": [
       "<AcqTable length=8>\n",
       "    id     halfw   mag    p_acq \n",
       "  int32    int64 float32 float64\n",
       "---------- ----- ------- -------\n",
       "1157630512   160   10.11   0.770\n",
       "1157632712   100    8.88   0.946\n",
       "1157636648   160    9.25   0.957\n",
       "1158025144   160   10.52   0.293\n",
       "1158025304    80   10.45   0.608\n",
       "1158028072   140   10.40   0.516\n",
       "1158030320   160    9.63   0.919\n",
       "1158030960   160    8.27   0.985"
      ]
     },
     "execution_count": 112,
     "metadata": {},
     "output_type": "execute_result"
    }
   ],
   "source": [
    "p_cat = aca20532.acqs['id', 'halfw', 'mag', 'p_acq']\n",
    "p_cat.sort('id')\n",
    "p_cat"
   ]
  },
  {
   "cell_type": "code",
   "execution_count": 113,
   "metadata": {},
   "outputs": [
    {
     "data": {
      "text/html": [
       "<i>Table length=8</i>\n",
       "<table id=\"table7135562776\" class=\"table-striped table-bordered table-condensed\">\n",
       "<thead><tr><th>id</th><th>halfw</th><th>mag</th><th>p_acq</th></tr></thead>\n",
       "<thead><tr><th>int64</th><th>int64</th><th>float64</th><th>object</th></tr></thead>\n",
       "<tr><td>1157630512</td><td>120</td><td>10.103</td><td>0.848</td></tr>\n",
       "<tr><td>1157632712</td><td>115</td><td>8.985</td><td>0.985</td></tr>\n",
       "<tr><td>1157636648</td><td>160</td><td>9.247</td><td>0.973</td></tr>\n",
       "<tr><td>1158025304</td><td>120</td><td>10.462</td><td>0.605</td></tr>\n",
       "<tr><td>1158028072</td><td>120</td><td>10.397</td><td>0.661</td></tr>\n",
       "<tr><td>1158030184</td><td>120</td><td>10.127</td><td>0.773</td></tr>\n",
       "<tr><td>1158030320</td><td>160</td><td>9.627</td><td>0.935</td></tr>\n",
       "<tr><td>1158030960</td><td>180</td><td>8.273</td><td>0.985</td></tr>\n",
       "</table>"
      ],
      "text/plain": [
       "<Table length=8>\n",
       "    id     halfw   mag   p_acq \n",
       "  int64    int64 float64 object\n",
       "---------- ----- ------- ------\n",
       "1157630512   120  10.103  0.848\n",
       "1157632712   115   8.985  0.985\n",
       "1157636648   160   9.247  0.973\n",
       "1158025304   120  10.462  0.605\n",
       "1158028072   120  10.397  0.661\n",
       "1158030184   120  10.127  0.773\n",
       "1158030320   160   9.627  0.935\n",
       "1158030960   180   8.273  0.985"
      ]
     },
     "execution_count": 113,
     "metadata": {},
     "output_type": "execute_result"
    }
   ],
   "source": [
    "s_cat = aca20532.starcheck_catalog['cat'][aca20532.starcheck_catalog['cat']['halfw'] > 30]\n",
    "s_cat = s_cat['id', 'halfw', 'mag', 'p_acq']\n",
    "s_cat.sort('id')\n",
    "s_cat"
   ]
  },
  {
   "cell_type": "code",
   "execution_count": 138,
   "metadata": {
    "scrolled": true
   },
   "outputs": [
    {
     "data": {
      "text/plain": [
       "{1158030184}"
      ]
     },
     "execution_count": 138,
     "metadata": {},
     "output_type": "execute_result"
    }
   ],
   "source": [
    "set(s_cat['id']) - set(p_cat['id'])"
   ]
  },
  {
   "cell_type": "code",
   "execution_count": 118,
   "metadata": {},
   "outputs": [
    {
     "data": {
      "text/html": [
       "<i>ACACatalogTable length=1</i>\n",
       "<table id=\"table7309271784\" class=\"table-striped table-bordered table-condensed\">\n",
       "<thead><tr><th>col</th><th>col0</th><th>d_col</th><th>d_row</th><th>img [8,8]</th><th>img_sum</th><th>mag</th><th>mag_err</th><th>row</th><th>row0</th><th>yang</th><th>zang</th></tr></thead>\n",
       "<thead><tr><th>float64</th><th>int64</th><th>float64</th><th>float64</th><th>float32</th><th>float32</th><th>float64</th><th>float64</th><th>float64</th><th>int64</th><th>float64</th><th>float64</th></tr></thead>\n",
       "<tr><td>-31.53</td><td>-36</td><td>10.2260625512</td><td>-11.7988801982</td><td>24.3558 .. 230.443</td><td>6827.12</td><td>10.04</td><td>0.14</td><td>392.30</td><td>388</td><td>-1922.48</td><td>-178.21</td></tr>\n",
       "</table>"
      ],
      "text/plain": [
       "<ACACatalogTable length=1>\n",
       "  col    col0     d_col         d_row      ...   row    row0   yang     zang \n",
       "float64 int64    float64       float64     ... float64 int64 float64  float64\n",
       "------- ----- ------------- -------------- ... ------- ----- -------- -------\n",
       " -31.53   -36 10.2260625512 -11.7988801982 ...  392.30   388 -1922.48 -178.21"
      ]
     },
     "execution_count": 118,
     "metadata": {},
     "output_type": "execute_result"
    }
   ],
   "source": [
    "ACACatalogTable(aca20532.acqs.cand_acqs.get_id(1158030184)['imposters'])"
   ]
  },
  {
   "cell_type": "markdown",
   "metadata": {},
   "source": [
    "## Obsid 20295 - required significant fid / acq optimization\n",
    "\n",
    "Scheduled with two spoiled (yellow) fids.  \n",
    "\n",
    "Proseco has more stringent criteria (50 arcsec margin vs. 25 arcsec in starcheck).  Proseco found two unspoiled fids."
   ]
  },
  {
   "cell_type": "code",
   "execution_count": 87,
   "metadata": {},
   "outputs": [
    {
     "data": {
      "text/html": [
       "&lt;Column name=&apos;obsid&apos; dtype=&apos;int64&apos; length=1&gt;\n",
       "<table>\n",
       "<tr><td>20295</td></tr>\n",
       "</table>"
      ],
      "text/plain": [
       "<Column name='obsid' dtype='int64' length=1>\n",
       "20295"
      ]
     },
     "execution_count": 87,
     "metadata": {},
     "output_type": "execute_result"
    }
   ],
   "source": [
    "dat['obsid'][dat['t_opt'] > 1]"
   ]
  },
  {
   "cell_type": "code",
   "execution_count": 88,
   "metadata": {
    "collapsed": true
   },
   "outputs": [],
   "source": [
    "obs20295 = get_info(20295, include_aca=True)\n",
    "aca20295 = obs20295['aca']\n",
    "aca20295.acqs.bad_stars = None"
   ]
  },
  {
   "cell_type": "code",
   "execution_count": 89,
   "metadata": {},
   "outputs": [
    {
     "data": {
      "image/png": "[encoded data removed]",
      "text/plain": [
       "<matplotlib.figure.Figure at 0x1ad6eb630>"
      ]
     },
     "metadata": {},
     "output_type": "display_data"
    }
   ],
   "source": [
    "aca20295.plot()"
   ]
  },
  {
   "cell_type": "code",
   "execution_count": 90,
   "metadata": {},
   "outputs": [
    {
     "data": {
      "text/plain": [
       "<ACABox y=8.0 z=8.0>"
      ]
     },
     "execution_count": 90,
     "metadata": {},
     "output_type": "execute_result"
    }
   ],
   "source": [
    "aca20295.dither_acq"
   ]
  },
  {
   "cell_type": "code",
   "execution_count": 91,
   "metadata": {},
   "outputs": [
    {
     "data": {
      "text/html": [
       "<i>FidTable length=3</i>\n",
       "<table id=\"table7172480696\" class=\"table-striped table-bordered table-condensed\">\n",
       "<thead><tr><th>id</th><th>yang</th><th>zang</th><th>row</th><th>col</th><th>mag</th><th>spoiler_score</th><th>idx</th><th>slot</th><th>type</th><th>maxmag</th><th>dim</th><th>res</th><th>halfw</th><th>p_acq</th><th>sz</th></tr></thead>\n",
       "<thead><tr><th>int64</th><th>float64</th><th>float64</th><th>float64</th><th>float64</th><th>float64</th><th>int64</th><th>int64</th><th>int64</th><th>str3</th><th>float64</th><th>int64</th><th>int64</th><th>int64</th><th>int64</th><th>str3</th></tr></thead>\n",
       "<tr><td>3</td><td>40.01</td><td>-1871.10</td><td>-2.67</td><td>-371.00</td><td>7.00</td><td>0</td><td>2</td><td>0</td><td>FID</td><td>8.00</td><td>1</td><td>1</td><td>25</td><td>0.000</td><td>8x8</td></tr>\n",
       "<tr><td>5</td><td>-1826.28</td><td>160.17</td><td>372.97</td><td>36.47</td><td>7.00</td><td>1</td><td>4</td><td>1</td><td>FID</td><td>8.00</td><td>1</td><td>1</td><td>25</td><td>0.000</td><td>8x8</td></tr>\n",
       "<tr><td>6</td><td>388.59</td><td>803.75</td><td>-71.49</td><td>166.10</td><td>7.00</td><td>0</td><td>5</td><td>2</td><td>FID</td><td>8.00</td><td>1</td><td>1</td><td>25</td><td>0.000</td><td>8x8</td></tr>\n",
       "</table>"
      ],
      "text/plain": [
       "<FidTable length=3>\n",
       "  id    yang     zang     row     col     mag   ...  dim   res  halfw p_acq  sz \n",
       "int64 float64  float64  float64 float64 float64 ... int64 int64 int64 int64 str3\n",
       "----- -------- -------- ------- ------- ------- ... ----- ----- ----- ----- ----\n",
       "    3    40.01 -1871.10   -2.67 -371.00    7.00 ...     1     1    25 0.000  8x8\n",
       "    5 -1826.28   160.17  372.97   36.47    7.00 ...     1     1    25 0.000  8x8\n",
       "    6   388.59   803.75  -71.49  166.10    7.00 ...     1     1    25 0.000  8x8"
      ]
     },
     "execution_count": 91,
     "metadata": {},
     "output_type": "execute_result"
    }
   ],
   "source": [
    "aca20295.fids"
   ]
  },
  {
   "cell_type": "code",
   "execution_count": 92,
   "metadata": {},
   "outputs": [
    {
     "data": {
      "text/html": [
       "<i>FidTable length=6</i>\n",
       "<table id=\"table7167582616\" class=\"table-striped table-bordered table-condensed\">\n",
       "<thead><tr><th>id</th><th>yang</th><th>zang</th><th>row</th><th>col</th><th>mag</th><th>spoiler_score</th><th>idx</th><th>slot</th></tr></thead>\n",
       "<thead><tr><th>int64</th><th>float64</th><th>float64</th><th>float64</th><th>float64</th><th>float64</th><th>int64</th><th>int64</th><th>int64</th></tr></thead>\n",
       "<tr><td>1</td><td>922.59</td><td>-1737.89</td><td>-180.05</td><td>-344.10</td><td>7.00</td><td>4</td><td>0</td><td>-99</td></tr>\n",
       "<tr><td>2</td><td>-773.20</td><td>-1742.03</td><td>160.79</td><td>-345.35</td><td>7.00</td><td>1</td><td>1</td><td>-99</td></tr>\n",
       "<tr><td>3</td><td>40.01</td><td>-1871.10</td><td>-2.67</td><td>-371.00</td><td>7.00</td><td>0</td><td>2</td><td>-99</td></tr>\n",
       "<tr><td>4</td><td>2140.23</td><td>166.63</td><td>-424.51</td><td>39.13</td><td>7.00</td><td>1</td><td>3</td><td>-99</td></tr>\n",
       "<tr><td>5</td><td>-1826.28</td><td>160.17</td><td>372.97</td><td>36.47</td><td>7.00</td><td>1</td><td>4</td><td>-99</td></tr>\n",
       "<tr><td>6</td><td>388.59</td><td>803.75</td><td>-71.49</td><td>166.10</td><td>7.00</td><td>0</td><td>5</td><td>-99</td></tr>\n",
       "</table>"
      ],
      "text/plain": [
       "<FidTable length=6>\n",
       "  id    yang     zang     row     col     mag   spoiler_score  idx   slot\n",
       "int64 float64  float64  float64 float64 float64     int64     int64 int64\n",
       "----- -------- -------- ------- ------- ------- ------------- ----- -----\n",
       "    1   922.59 -1737.89 -180.05 -344.10    7.00             4     0   -99\n",
       "    2  -773.20 -1742.03  160.79 -345.35    7.00             1     1   -99\n",
       "    3    40.01 -1871.10   -2.67 -371.00    7.00             0     2   -99\n",
       "    4  2140.23   166.63 -424.51   39.13    7.00             1     3   -99\n",
       "    5 -1826.28   160.17  372.97   36.47    7.00             1     4   -99\n",
       "    6   388.59   803.75  -71.49  166.10    7.00             0     5   -99"
      ]
     },
     "execution_count": 92,
     "metadata": {},
     "output_type": "execute_result"
    }
   ],
   "source": [
    "aca20295.fids.cand_fids"
   ]
  },
  {
   "cell_type": "markdown",
   "metadata": {},
   "source": [
    "## Timing"
   ]
  },
  {
   "cell_type": "code",
   "execution_count": 137,
   "metadata": {},
   "outputs": [
    {
     "name": "stdout",
     "output_type": "stream",
     "text": [
      "0.889176873489\n"
     ]
    }
   ],
   "source": [
    "print(np.mean(dat['t_total']))"
   ]
  },
  {
   "cell_type": "code",
   "execution_count": 31,
   "metadata": {
    "scrolled": true
   },
   "outputs": [
    {
     "data": {
      "image/png": "[encoded data removed]",
      "text/plain": [
       "<matplotlib.figure.Figure at 0x2bf1ef0b8>"
      ]
     },
     "metadata": {},
     "output_type": "display_data"
    }
   ],
   "source": [
    "plt.hist(dat['t_total'], bins=50);"
   ]
  },
  {
   "cell_type": "code",
   "execution_count": 32,
   "metadata": {},
   "outputs": [
    {
     "data": {
      "image/png": "[encoded data removed]",
      "text/plain": [
       "<matplotlib.figure.Figure at 0x2c24b5208>"
      ]
     },
     "metadata": {},
     "output_type": "display_data"
    }
   ],
   "source": [
    "plt.hist(dat['t_acq'], bins=50);"
   ]
  },
  {
   "cell_type": "code",
   "execution_count": 33,
   "metadata": {},
   "outputs": [
    {
     "data": {
      "image/png": "[encoded data removed]",
      "text/plain": [
       "<matplotlib.figure.Figure at 0x2c33c8400>"
      ]
     },
     "metadata": {},
     "output_type": "display_data"
    }
   ],
   "source": [
    "plt.hist(dat['t_fid'], bins=50);"
   ]
  },
  {
   "cell_type": "code",
   "execution_count": 34,
   "metadata": {
    "scrolled": true
   },
   "outputs": [
    {
     "data": {
      "image/png": "[encoded data removed]",
      "text/plain": [
       "<matplotlib.figure.Figure at 0x2c2cf0f28>"
      ]
     },
     "metadata": {},
     "output_type": "display_data"
    }
   ],
   "source": [
    "plt.hist(dat['t_guide'], bins=50);"
   ]
  },
  {
   "cell_type": "code",
   "execution_count": 35,
   "metadata": {
    "scrolled": true
   },
   "outputs": [
    {
     "data": {
      "image/png": "[encoded data removed]",
      "text/plain": [
       "<matplotlib.figure.Figure at 0x2c4310da0>"
      ]
     },
     "metadata": {},
     "output_type": "display_data"
    }
   ],
   "source": [
    "plt.hist(dat['t_opt'], bins=50, log=True);"
   ]
  }
 ],
 "metadata": {
  "kernelspec": {
   "display_name": "Python [conda env:ska3]",
   "language": "python",
   "name": "conda-env-ska3-py"
  },
  "language_info": {
   "codemirror_mode": {
    "name": "ipython",
    "version": 3
   },
   "file_extension": ".py",
   "mimetype": "text/x-python",
   "name": "python",
   "nbconvert_exporter": "python",
   "pygments_lexer": "ipython3",
   "version": "3.6.2"
  }
 },
 "nbformat": 4,
 "nbformat_minor": 2
}
