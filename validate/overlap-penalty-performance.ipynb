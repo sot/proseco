{
 "cells": [
  {
   "attachments": {},
   "cell_type": "markdown",
   "metadata": {},
   "source": [
    "## Profiling proseco / sparkles for impact of overlap prevention\n"
   ]
  },
  {
   "cell_type": "code",
   "execution_count": 1,
   "metadata": {
    "tags": []
   },
   "outputs": [],
   "source": [
    "import gzip\n",
    "import pickle\n",
    "import sys\n",
    "from pathlib import Path\n",
    "\n",
    "sys.path.insert(0, str(Path.home() / \"git\" / \"proseco\"))"
   ]
  },
  {
   "cell_type": "code",
   "execution_count": 2,
   "metadata": {},
   "outputs": [],
   "source": [
    "import ska_helpers.utils"
   ]
  },
  {
   "cell_type": "code",
   "execution_count": 3,
   "metadata": {},
   "outputs": [
    {
     "name": "stdout",
     "output_type": "stream",
     "text": [
      "5.12.1.dev2+g127316a.d20240309-r938-127316a\n",
      "/Users/aldcroft/git/proseco/proseco/__init__.py\n"
     ]
    }
   ],
   "source": [
    "import proseco\n",
    "\n",
    "print(proseco.test(get_version=True))\n",
    "print(proseco.__file__)"
   ]
  },
  {
   "cell_type": "code",
   "execution_count": 4,
   "metadata": {},
   "outputs": [
    {
     "name": "stdout",
     "output_type": "stream",
     "text": [
      "4.26.0\n",
      "/Users/aldcroft/miniconda3/envs/ska3-flight-2024.1rc4/lib/python3.11/site-packages/sparkles/__init__.py\n"
     ]
    }
   ],
   "source": [
    "import sparkles\n",
    "\n",
    "print(sparkles.test(get_version=True))\n",
    "print(sparkles.__file__)"
   ]
  },
  {
   "cell_type": "code",
   "execution_count": 5,
   "metadata": {
    "tags": []
   },
   "outputs": [],
   "source": [
    "filename = \"/Users/aldcroft/ska/data/mpcrit1/mplogs/2022/NOV2122/oflsa/output/NOV2122A_proseco.pkl.gz\"\n",
    "acas_dict = pickle.load(gzip.open(filename, \"rb\"))"
   ]
  },
  {
   "cell_type": "code",
   "execution_count": 6,
   "metadata": {
    "tags": []
   },
   "outputs": [],
   "source": [
    "def run_one(aca, run_proseco=True, run_sparkles=True, overlap_penalty=False):\n",
    "    with ska_helpers.utils.temp_env_var(\n",
    "        \"PROSECO_DISABLE_OVERLAP_PENALTY\", f\"{not overlap_penalty}\"\n",
    "    ):\n",
    "        if run_proseco:\n",
    "            aca = proseco.get_aca_catalog(**aca.call_args)\n",
    "        if run_sparkles:\n",
    "            acar = aca.get_review_table()\n",
    "            acar.run_aca_review()"
   ]
  },
  {
   "cell_type": "code",
   "execution_count": 7,
   "metadata": {},
   "outputs": [],
   "source": [
    "def run_all(acas_dict, run_proseco=True, run_sparkles=True, overlap_penalty=False):\n",
    "    for aca in acas_dict.values():\n",
    "        run_one(\n",
    "            aca,\n",
    "            run_proseco=run_proseco,\n",
    "            run_sparkles=run_sparkles,\n",
    "            overlap_penalty=overlap_penalty,\n",
    "        )"
   ]
  },
  {
   "cell_type": "code",
   "execution_count": 8,
   "metadata": {},
   "outputs": [],
   "source": [
    "run_one(acas_dict[27565])"
   ]
  },
  {
   "cell_type": "code",
   "execution_count": 9,
   "metadata": {},
   "outputs": [
    {
     "name": "stdout",
     "output_type": "stream",
     "text": [
      " \n",
      "*** Profile printout saved to text file 'tmp.txt'.\n"
     ]
    },
    {
     "name": "stdout",
     "output_type": "stream",
     "text": [
      "         24467498 function calls (23591548 primitive calls) in 13.462 seconds\n",
      "\n",
      "   Ordered by: cumulative time\n",
      "   List reduced from 1409 to 20 due to restriction <20>\n",
      "\n",
      "   ncalls  tottime  percall  cumtime  percall filename:lineno(function)\n",
      "    133/1    0.000    0.000   13.463   13.463 {built-in method builtins.exec}\n",
      "        1    0.009    0.009   13.463   13.463 1492753284.py:1(run_all)\n",
      "       37    0.001    0.000   13.455    0.364 1317233785.py:1(run_one)\n",
      "       37    0.000    0.000   13.453    0.364 __init__.py:6(get_aca_catalog)\n",
      "       37    0.000    0.000   13.453    0.364 catalog.py:47(get_aca_catalog)\n",
      "       37    0.004    0.000   13.453    0.364 catalog.py:82(_get_aca_catalog)\n",
      "       37    0.004    0.000    8.273    0.224 acq.py:180(get_acq_catalog)\n",
      "      709    0.081    0.000    5.326    0.008 acq.py:1540(__init__)\n",
      "    14889    0.179    0.000    3.226    0.000 acq.py:880(calc_p_brightest)\n",
      "       37    0.002    0.000    3.194    0.086 guide.py:33(get_guide_catalog)\n",
      "       37    0.003    0.000    2.638    0.071 guide.py:247(run_search_stages)\n",
      "      205    0.027    0.000    2.412    0.012 guide.py:434(search_stage)\n",
      "       37    0.008    0.000    1.907    0.052 acq.py:1118(optimize_catalog)\n",
      "   107068    0.213    0.000    1.906    0.000 column.py:702(__array_finalize__)\n",
      "     4254    0.038    0.000    1.884    0.000 star_probs.py:269(acq_success_prob)\n",
      "    29778    0.117    0.000    1.696    0.000 acq.py:1439(get_intruders)\n",
      "     1005    0.020    0.000    1.631    0.002 acq.py:1016(optimize_acq_halfw)\n",
      "1305282/918871    0.803    0.000    1.435    0.000 column.py:1260(__setattr__)\n",
      "     5672    0.087    0.000    1.434    0.000 acq.py:966(calc_p_safe)\n",
      "     4254    0.063    0.000    1.377    0.000 star_probs.py:589(grid_model_acq_prob)"
     ]
    }
   ],
   "source": [
    "%prun -T tmp.txt -l 20 -s cumulative run_all(acas_dict, run_sparkles=False, overlap_penalty=False)"
   ]
  },
  {
   "cell_type": "code",
   "execution_count": 10,
   "metadata": {},
   "outputs": [
    {
     "name": "stdout",
     "output_type": "stream",
     "text": [
      " \n",
      "*** Profile printout saved to text file 'tmp.txt'.\n"
     ]
    },
    {
     "name": "stdout",
     "output_type": "stream",
     "text": [
      "         44458835 function calls (42372674 primitive calls) in 19.380 seconds\n",
      "\n",
      "   Ordered by: cumulative time\n",
      "   List reduced from 1410 to 20 due to restriction <20>\n",
      "\n",
      "   ncalls  tottime  percall  cumtime  percall filename:lineno(function)\n",
      "    137/1    0.000    0.000   19.381   19.381 {built-in method builtins.exec}\n",
      "        1    0.011    0.011   19.381   19.381 1492753284.py:1(run_all)\n",
      "       37    0.000    0.000   19.370    0.524 1317233785.py:1(run_one)\n",
      "       37    0.000    0.000   19.369    0.523 __init__.py:6(get_aca_catalog)\n",
      "       37    0.000    0.000   19.368    0.523 catalog.py:47(get_aca_catalog)\n",
      "       37    0.005    0.000   19.368    0.523 catalog.py:82(_get_aca_catalog)\n",
      "       37    0.005    0.000   14.083    0.381 acq.py:180(get_acq_catalog)\n",
      "       37    0.010    0.000    7.465    0.202 acq.py:1118(optimize_catalog)\n",
      "      989    0.022    0.000    7.062    0.007 acq.py:1016(optimize_acq_halfw)\n",
      "     5578    0.095    0.000    6.988    0.001 acq.py:966(calc_p_safe)\n",
      "    33568    1.380    0.000    5.677    0.000 acq.py:938(get_overlap_penalties)\n",
      "      709    0.085    0.000    5.470    0.008 acq.py:1540(__init__)\n",
      "       72    0.002    0.000    4.477    0.062 acq.py:1090(optimize_acqs_halfw)\n",
      "    14889    0.184    0.000    3.304    0.000 acq.py:880(calc_p_brightest)\n",
      "       37    0.002    0.000    3.292    0.089 guide.py:33(get_guide_catalog)\n",
      "1383044/1380120    0.841    0.000    3.190    0.000 table.py:2059(__getitem__)\n",
      "       37    0.004    0.000    2.719    0.073 guide.py:247(run_search_stages)\n",
      "      205    0.029    0.000    2.484    0.012 guide.py:434(search_stage)\n",
      "  4285915    1.685    0.000    2.304    0.000 row.py:47(__getitem__)\n",
      "   107102    0.219    0.000    1.983    0.000 column.py:702(__array_finalize__)"
     ]
    }
   ],
   "source": [
    "%prun -T tmp.txt -l 20 -s cumulative run_all(acas_dict, run_sparkles=False, overlap_penalty=True)"
   ]
  },
  {
   "cell_type": "code",
   "execution_count": 11,
   "metadata": {},
   "outputs": [
    {
     "data": {
      "text/plain": [
       "1.387596899224806"
      ]
     },
     "execution_count": 11,
     "metadata": {},
     "output_type": "execute_result"
    }
   ],
   "source": [
    "17.9 / 12.9"
   ]
  },
  {
   "cell_type": "code",
   "execution_count": 12,
   "metadata": {},
   "outputs": [
    {
     "name": "stdout",
     "output_type": "stream",
     "text": [
      "CPU times: user 258 ms, sys: 3.84 ms, total: 262 ms\n",
      "Wall time: 257 ms\n"
     ]
    }
   ],
   "source": [
    "%time run_one(acas_dict[27565])"
   ]
  },
  {
   "cell_type": "code",
   "execution_count": 13,
   "metadata": {},
   "outputs": [
    {
     "data": {
      "text/plain": [
       "dict_keys([27565.0, 27566.0, 25219.0, 27223.0, 27567.0, 27571.0, 26874.0, 27051.0, 26644.0, 45049.0, 45048.0, 45046.0, 45045.0, 27477.0, 25873.0, 25321.0, 27564.0, 27570.0, 27484.0, 26855.0, 26500.0, 45044.0, 45043.0, 45042.0, 45040.0, 45039.0, 45038.0, 26718.0, 27483.0, 25963.0, 27568.0, 27522.0, 25938.0, 27569.0, 25937.0, 26870.0, 45037.0])"
      ]
     },
     "execution_count": 13,
     "metadata": {},
     "output_type": "execute_result"
    }
   ],
   "source": [
    "acas_dict.keys()"
   ]
  },
  {
   "cell_type": "code",
   "execution_count": 14,
   "metadata": {},
   "outputs": [
    {
     "name": "stdout",
     "output_type": "stream",
     "text": [
      "CPU times: user 7.62 s, sys: 81.5 ms, total: 7.7 s\n",
      "Wall time: 7.6 s\n"
     ]
    }
   ],
   "source": [
    "%time run_all(acas_dict, run_sparkles=False, overlap_penalty=False)"
   ]
  },
  {
   "cell_type": "code",
   "execution_count": 15,
   "metadata": {
    "collapsed": true,
    "jupyter": {
     "outputs_hidden": true
    }
   },
   "outputs": [
    {
     "name": "stdout",
     "output_type": "stream",
     "text": [
      "CPU times: user 9.48 s, sys: 90 ms, total: 9.57 s\n",
      "Wall time: 9.53 s\n"
     ]
    }
   ],
   "source": [
    "%time run_all(acas_dict, run_sparkles=False, overlap_penalty=True)"
   ]
  },
  {
   "cell_type": "code",
   "execution_count": 17,
   "metadata": {},
   "outputs": [
    {
     "data": {
      "text/plain": [
       "1.25"
      ]
     },
     "execution_count": 17,
     "metadata": {},
     "output_type": "execute_result"
    }
   ],
   "source": [
    "9.5 / 7.6"
   ]
  },
  {
   "cell_type": "code",
   "execution_count": null,
   "metadata": {},
   "outputs": [],
   "source": []
  }
 ],
 "metadata": {
  "kernelspec": {
   "display_name": "ska3",
   "language": "python",
   "name": "python3"
  },
  "language_info": {
   "codemirror_mode": {
    "name": "ipython",
    "version": 3
   },
   "file_extension": ".py",
   "mimetype": "text/x-python",
   "name": "python",
   "nbconvert_exporter": "python",
   "pygments_lexer": "ipython3",
   "version": "3.11.8"
  }
 },
 "nbformat": 4,
 "nbformat_minor": 4
}
