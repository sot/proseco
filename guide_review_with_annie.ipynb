{
 "cells": [
  {
   "cell_type": "code",
   "execution_count": 16,
   "metadata": {
    "collapsed": true
   },
   "outputs": [],
   "source": [
    "import os\n",
    "# Use a local kadi events.db3 so you don't break the kadi cron job if this takes a while\n",
    "os.environ['KADI'] = '/proj/sot/ska/jeanproj/git/proseco'\n",
    "import numpy as np\n",
    "from Quaternion import Quat\n",
    "from Ska.quatutil import radec2yagzag\n",
    "import agasc\n",
    "from astropy.table import Table\n",
    "from mica.starcheck import get_starcat, get_dither, get_att, get_starcheck_catalog"
   ]
  },
  {
   "cell_type": "code",
   "execution_count": 17,
   "metadata": {
    "collapsed": true
   },
   "outputs": [],
   "source": [
    "import kadi\n",
    "import kadi.paths\n",
    "from kadi import events"
   ]
  },
  {
   "cell_type": "code",
   "execution_count": 18,
   "metadata": {},
   "outputs": [
    {
     "data": {
      "text/plain": [
       "'/proj/sot/ska/jeanproj/git/proseco'"
      ]
     },
     "execution_count": 18,
     "metadata": {},
     "output_type": "execute_result"
    }
   ],
   "source": [
    "kadi.paths.DATA_DIR()"
   ]
  },
  {
   "cell_type": "code",
   "execution_count": 19,
   "metadata": {},
   "outputs": [
    {
     "data": {
      "text/plain": [
       "'0.6-r144-eaa0260'"
      ]
     },
     "execution_count": 19,
     "metadata": {},
     "output_type": "execute_result"
    }
   ],
   "source": [
    "from annie import Spacecraft\n",
    "import annie.validation as val\n",
    "import astropy.units as u\n",
    "import annie\n",
    "annie.test(get_version=True)"
   ]
  },
  {
   "cell_type": "code",
   "execution_count": 20,
   "metadata": {
    "collapsed": true
   },
   "outputs": [],
   "source": [
    "import proseco\n",
    "from proseco.guide import get_guide_catalog"
   ]
  },
  {
   "cell_type": "code",
   "execution_count": 6,
   "metadata": {},
   "outputs": [
    {
     "data": {
      "text/plain": [
       "'4.0-r380-504ce92'"
      ]
     },
     "execution_count": 6,
     "metadata": {},
     "output_type": "execute_result"
    }
   ],
   "source": [
    "pver = proseco.test(get_version=True)\n",
    "proseco.test(get_version=True)"
   ]
  },
  {
   "cell_type": "code",
   "execution_count": 7,
   "metadata": {
    "collapsed": true
   },
   "outputs": [],
   "source": [
    "def consecutive(data, stepsize=1):\n",
    "    return np.split(data, np.where(np.diff(data) != stepsize)[0] + 1)"
   ]
  },
  {
   "cell_type": "code",
   "execution_count": 8,
   "metadata": {
    "collapsed": true
   },
   "outputs": [],
   "source": [
    "def annie_eval(att, dither, starcat, date, t_ccd, dur=20):\n",
    "\n",
    "    # Run an annie sim for the given params\n",
    "    sc = Spacecraft()\n",
    "    sc.track_stars_setup(att_cmd=att, dither=dither, starcat=starcat,\n",
    "                         ccd_bgd_data=date,  t_ccd=t_ccd,\n",
    "                         stop=dur * u.second)\n",
    "    sc.run()\n",
    "    sc.telem.clip()\n",
    "\n",
    "    # Get DR\n",
    "    atts_true = sc.telem.pcad_att['att_true']\n",
    "    atts_est = sc.telem.pcad_att['att_est']\n",
    "    dr = []\n",
    "    for att_true, att_est in zip(atts_true, atts_est):\n",
    "        dq = att_true.dq(att_est)\n",
    "        dr.append(dq.roll0 * 3600)\n",
    "\n",
    "    # Get KALM issues\n",
    "    no_kalm = consecutive((np.array(sc.telem.n_Kalman_stars) == 0).astype(int))\n",
    "    no_kalm_dur= np.array([len(interv) for interv in no_kalm])\n",
    "\n",
    "    # Get star residuals\n",
    "    res = []\n",
    "    for s in starcat:\n",
    "        slot = s['slot']\n",
    "        sim = val.SimAca(sc.telem, slot=slot)\n",
    "        ys = sim.delta_ys[sim.Kalman_oks]\n",
    "        zs = sim.delta_zs[sim.Kalman_oks]\n",
    "        rms_y = np.sqrt(np.mean((ys - np.median(ys)) ** 2))\n",
    "        rms_z = np.sqrt(np.mean((zs - np.median(zs)) ** 2))\n",
    "        res.append({'slot': slot,\n",
    "                    'y': rms_y,\n",
    "                    'z': rms_z})\n",
    "    return {'no_kalm_dur': np.max(no_kalm_dur),\n",
    "            'dr95th': np.percentile(dr, 95),\n",
    "            'res': res, 'sim': sc, 'drs': dr}"
   ]
  },
  {
   "cell_type": "code",
   "execution_count": 21,
   "metadata": {
    "collapsed": true
   },
   "outputs": [],
   "source": [
    "cfile = f'compare_{pver}.dat'\n",
    "if os.path.exists(cfile):\n",
    "    dwells = []\n",
    "else:\n",
    "    compare = []\n",
    "    dwells = events.dwells.filter(start=\"2015:001\")\n",
    "\n",
    "for d in dwells:\n",
    "    try:\n",
    "        obsid = d.get_obsid()\n",
    "    except:\n",
    "        continue\n",
    "    if obsid == 0 or obsid > 38000:\n",
    "        continue\n",
    "\n",
    "    obs = get_starcheck_catalog(obsid)\n",
    "    if obs is None or 'cat' not in obs or len(obs['cat']) == 0:\n",
    "        continue\n",
    "    if 'pred_temp' not in obs:\n",
    "        continue\n",
    "    \n",
    "    sc_cat = get_starcat(obsid)\n",
    "    dither = get_dither(obsid)\n",
    "    att = get_att(obsid)\n",
    "    date = obs['obs']['mp_starcat_time']\n",
    "    t_ccd = obs['pred_temp']\n",
    "    \n",
    "    # Speed everything up a bit (hopefully this won't break everything much)\n",
    "    dither['pitch_period'] *= .5\n",
    "    dither['yaw_period'] *= .5\n",
    "\n",
    "    scgui = sc_cat[(sc_cat['type'] == 'GUI') | (sc_cat['type'] == 'BOT')]\n",
    "    if len(scgui) == 0:\n",
    "        continue\n",
    "    n = 5 if obsid < 38000 else 8\n",
    "    if (len(scgui) > 5) or ('MON' in sc_cat['type']):\n",
    "        n = len(scgui)\n",
    "\n",
    "    guis = get_guide_catalog(obsid, n_guide=n)\n",
    "    match = len(set(guis['id']).intersection(set(scgui['id'])))\n",
    "    if match == len(guis['id']):\n",
    "        continue\n",
    "        \n",
    "    oldcat = annie_eval(att=att, dither=dither, starcat=scgui,\n",
    "                        date=date,\n",
    "                        t_ccd=t_ccd,\n",
    "                        dur=1000)\n",
    "\n",
    "    q = Quat(att)\n",
    "    cat = []\n",
    "    for aid in guis['id']:\n",
    "        star = agasc.get_star(aid, date=date)\n",
    "        yag, zag = radec2yagzag(star['RA_PMCORR'], star['DEC_PMCORR'], q)\n",
    "        row = {'yang': yag * 3600,\n",
    "               'zang': zag * 3600,\n",
    "               'sz':'6x6',\n",
    "               'maxmag': star['MAG_ACA'] + 1.5,\n",
    "               'type': 'GUI',\n",
    "               'halfw': 25}\n",
    "        cat.append(row)\n",
    "    cat = Table(cat)\n",
    "    cat['slot'] = np.arange(0, len(cat))\n",
    "\n",
    "    newcat = annie_eval(att=att, dither=dither, starcat=cat,\n",
    "                        date=date,\n",
    "                        t_ccd=t_ccd,\n",
    "                        dur=1000)\n",
    "    rec = {'obsid': obsid,\n",
    "           'match': len(set(guis['id']).intersection(set(scgui['id']))),\n",
    "           'p_n': len(guis),\n",
    "           's_n': len(scgui),\n",
    "           'old_nkd': oldcat['no_kalm_dur'],\n",
    "           'new_nkd': newcat['no_kalm_dur'],\n",
    "           'old_dr95th': oldcat['dr95th'],\n",
    "           'new_dr95th': newcat['dr95th']}\n",
    "    \n",
    "    for slot in range(0, 5):\n",
    "        try:\n",
    "            rec[f'old_s{slot}_y'] = oldcat['res'][slot]['y']\n",
    "            rec[f'old_s{slot}_z'] = oldcat['res'][slot]['z']\n",
    "        except:\n",
    "            rec[f'old_s{slot}_y'] = -1\n",
    "            rec[f'old_s{slot}_z'] = -1\n",
    "        try:\n",
    "            rec[f'new_s{slot}_y'] = newcat['res'][slot]['y']\n",
    "            rec[f'new_s{slot}_z'] = newcat['res'][slot]['z']\n",
    "        except:\n",
    "            rec[f'new_s{slot}_y'] = -1\n",
    "            rec[f'new_s{slot}_z'] = -1\n",
    "    compare.append(rec)\n",
    "\n",
    "    if len(compare) > 1:\n",
    "        Table(compare).write(cfile, format='ascii', overwrite=True)           "
   ]
  },
  {
   "cell_type": "code",
   "execution_count": 22,
   "metadata": {
    "collapsed": true
   },
   "outputs": [],
   "source": [
    "if os.path.exists(cfile):\n",
    "    tc = Table.read(cfile, format='ascii')\n",
    "else:\n",
    "    tc = Table(compare)"
   ]
  },
  {
   "cell_type": "code",
   "execution_count": 23,
   "metadata": {
    "collapsed": true
   },
   "outputs": [],
   "source": [
    "%matplotlib inline"
   ]
  },
  {
   "cell_type": "code",
   "execution_count": 24,
   "metadata": {
    "collapsed": true
   },
   "outputs": [],
   "source": [
    "import matplotlib.pyplot as plt"
   ]
  },
  {
   "cell_type": "code",
   "execution_count": 25,
   "metadata": {},
   "outputs": [
    {
     "data": {
      "image/png": "[encoded data removed]",
      "text/plain": [
       "<matplotlib.figure.Figure at 0x7ffae6367eb8>"
      ]
     },
     "metadata": {},
     "output_type": "display_data"
    }
   ],
   "source": [
    "plt.hist(tc['match'], bins=range(0, 7), align='left', normed=True)\n",
    "plt.grid()"
   ]
  },
  {
   "cell_type": "code",
   "execution_count": 26,
   "metadata": {},
   "outputs": [
    {
     "data": {
      "image/png": "[encoded data removed]",
      "text/plain": [
       "<matplotlib.figure.Figure at 0x7ffae8cfed30>"
      ]
     },
     "metadata": {},
     "output_type": "display_data"
    }
   ],
   "source": [
    "plt.figure()\n",
    "plt.hist(tc['old_dr95th'], label='flight', alpha=.5, color='C3')\n",
    "plt.hist(tc['new_dr95th'], label='proseco', alpha=.5, color='C0')\n",
    "plt.grid()\n",
    "plt.legend();"
   ]
  },
  {
   "cell_type": "code",
   "execution_count": 27,
   "metadata": {},
   "outputs": [
    {
     "data": {
      "text/html": [
       "<i>Table length=19</i>\n",
       "<table id=\"table140715624317784\" class=\"table-striped table-bordered table-condensed\">\n",
       "<thead><tr><th>obsid</th><th>match</th><th>old_dr95th</th><th>new_dr95th</th></tr></thead>\n",
       "<thead><tr><th>int64</th><th>int64</th><th>float64</th><th>float64</th></tr></thead>\n",
       "<tr><td>16147</td><td>3</td><td>45.066178293</td><td>111.34953554</td></tr>\n",
       "<tr><td>17223</td><td>4</td><td>57.9622872677</td><td>84.6607369902</td></tr>\n",
       "<tr><td>17632</td><td>4</td><td>68.6331891611</td><td>93.6209989933</td></tr>\n",
       "<tr><td>17387</td><td>4</td><td>38.4380979754</td><td>88.9601936753</td></tr>\n",
       "<tr><td>17389</td><td>4</td><td>36.0088021155</td><td>87.2274541696</td></tr>\n",
       "<tr><td>17392</td><td>4</td><td>52.8346808084</td><td>86.3873310569</td></tr>\n",
       "<tr><td>17865</td><td>4</td><td>34.4432931601</td><td>90.5754060813</td></tr>\n",
       "<tr><td>18422</td><td>3</td><td>85.4386789647</td><td>107.824350437</td></tr>\n",
       "<tr><td>18340</td><td>4</td><td>68.7327501448</td><td>90.2128793299</td></tr>\n",
       "<tr><td>18130</td><td>3</td><td>71.0290670436</td><td>106.352837844</td></tr>\n",
       "<tr><td>17117</td><td>3</td><td>90.221915393</td><td>81.4413647766</td></tr>\n",
       "<tr><td>18054</td><td>3</td><td>90.4709262083</td><td>95.6778035716</td></tr>\n",
       "<tr><td>18875</td><td>3</td><td>93.568906015</td><td>81.9328562406</td></tr>\n",
       "<tr><td>18047</td><td>3</td><td>116.536955941</td><td>92.8244831003</td></tr>\n",
       "<tr><td>18208</td><td>4</td><td>92.839760071</td><td>104.711838947</td></tr>\n",
       "<tr><td>18048</td><td>4</td><td>61.2026469514</td><td>101.460788161</td></tr>\n",
       "<tr><td>19981</td><td>4</td><td>51.6908177017</td><td>96.8610090935</td></tr>\n",
       "<tr><td>18050</td><td>4</td><td>95.8625730813</td><td>93.6372738659</td></tr>\n",
       "<tr><td>18932</td><td>4</td><td>79.2864052388</td><td>101.427196265</td></tr>\n",
       "</table>"
      ],
      "text/plain": [
       "<Table length=19>\n",
       "obsid match   old_dr95th    new_dr95th \n",
       "int64 int64    float64       float64   \n",
       "----- ----- ------------- -------------\n",
       "16147     3  45.066178293  111.34953554\n",
       "17223     4 57.9622872677 84.6607369902\n",
       "17632     4 68.6331891611 93.6209989933\n",
       "17387     4 38.4380979754 88.9601936753\n",
       "17389     4 36.0088021155 87.2274541696\n",
       "17392     4 52.8346808084 86.3873310569\n",
       "17865     4 34.4432931601 90.5754060813\n",
       "18422     3 85.4386789647 107.824350437\n",
       "18340     4 68.7327501448 90.2128793299\n",
       "18130     3 71.0290670436 106.352837844\n",
       "17117     3  90.221915393 81.4413647766\n",
       "18054     3 90.4709262083 95.6778035716\n",
       "18875     3  93.568906015 81.9328562406\n",
       "18047     3 116.536955941 92.8244831003\n",
       "18208     4  92.839760071 104.711838947\n",
       "18048     4 61.2026469514 101.460788161\n",
       "19981     4 51.6908177017 96.8610090935\n",
       "18050     4 95.8625730813 93.6372738659\n",
       "18932     4 79.2864052388 101.427196265"
      ]
     },
     "execution_count": 27,
     "metadata": {},
     "output_type": "execute_result"
    }
   ],
   "source": [
    "tc['obsid', 'match', 'old_dr95th', 'new_dr95th'][tc['new_dr95th'] > 80]"
   ]
  },
  {
   "cell_type": "code",
   "execution_count": null,
   "metadata": {
    "collapsed": true
   },
   "outputs": [],
   "source": []
  }
 ],
 "metadata": {
  "kernelspec": {
   "display_name": "Python [conda root]",
   "language": "python",
   "name": "conda-root-py"
  },
  "language_info": {
   "codemirror_mode": {
    "name": "ipython",
    "version": 3
   },
   "file_extension": ".py",
   "mimetype": "text/x-python",
   "name": "python",
   "nbconvert_exporter": "python",
   "pygments_lexer": "ipython3",
   "version": "3.6.2"
  }
 },
 "nbformat": 4,
 "nbformat_minor": 2
}
